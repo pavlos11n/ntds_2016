{
 "cells": [
  {
   "cell_type": "markdown",
   "metadata": {},
   "source": [
    "# A Python Tour of Data Science: Data Acquisition & Exploration     \n",
    "\n",
    "[Michaël Defferrard](http://deff.ch), *PhD student*, [EPFL](http://epfl.ch) [LTS2](http://lts2.epfl.ch)"
   ]
  },
  {
   "cell_type": "code",
   "execution_count": 1,
   "metadata": {
    "collapsed": false
   },
   "outputs": [
    {
     "name": "stdout",
     "output_type": "stream",
     "text": [
      "Python 3.5\n"
     ]
    }
   ],
   "source": [
    "# While packages are usually imported at the top, they can\n",
    "# be imported wherever you prefer, in whatever scope.\n",
    "import numpy as np\n",
    "\n",
    "# Show matplotlib graphs inside the notebook.\n",
    "%matplotlib inline\n",
    "\n",
    "import sys\n",
    "print('Python {}.{}'.format(sys.version_info.major, sys.version_info.minor))"
   ]
  },
  {
   "cell_type": "markdown",
   "metadata": {},
   "source": [
    "## 1 Data Importation\n",
    "\n",
    "* The world is messy, we got data in CSV, [JSON](http://www.json.org), Excel, [HDF5](https://www.hdfgroup.org/HDF5) files and an SQL database.\n",
    "* Could also have been matlab, HTML, XML files or from the web via scraping and APIs (e.g. [Twitter Firehose](https://dev.twitter.com/streaming/firehose)) or noSQL data stores, etc."
   ]
  },
  {
   "cell_type": "code",
   "execution_count": 2,
   "metadata": {
    "collapsed": false
   },
   "outputs": [],
   "source": [
    "# Search modules in parent folder.\n",
    "import sys\n",
    "sys.path.append('..')\n",
    "import utils\n",
    "\n",
    "# Cross-platform (Windows / Mac / Linux) paths.\n",
    "import os.path\n",
    "folder = os.path.join('..', 'data', 'credit_card_defaults')\n",
    "\n",
    "# Download the data.\n",
    "utils.get_data(folder)"
   ]
  },
  {
   "cell_type": "code",
   "execution_count": 3,
   "metadata": {
    "collapsed": false
   },
   "outputs": [
    {
     "name": "stdout",
     "output_type": "stream",
     "text": [
      "bills.hdf5  demographics.csv  payments.sqlite\r\n",
      "delays.xls  original.xls      target.json\r\n"
     ]
    }
   ],
   "source": [
    "!ls ../data/credit_card_defaults/\n",
    "# Windows: !dir ..\\data\\credit_card_defaults\\"
   ]
  },
  {
   "cell_type": "markdown",
   "metadata": {},
   "source": [
    "### 1.1 Importing from an SQL Database\n",
    "\n",
    "[SQLAlchemy](http://www.sqlalchemy.org/) to the rescue.\n",
    "* Abstraction between DBAPIs.\n",
    "    * Supported databases: SQLite, Postgresql, MySQL, Oracle, MS-SQL, Firebird, Sybase and others.\n",
    "* [SQL Expression Language](http://docs.sqlalchemy.org/en/rel_1_0/core/tutorial.html).\n",
    "* [Object Relational Mapper (ORM)](http://docs.sqlalchemy.org/en/rel_1_0/orm/tutorial.html)."
   ]
  },
  {
   "cell_type": "code",
   "execution_count": 4,
   "metadata": {
    "collapsed": false
   },
   "outputs": [
    {
     "name": "stdout",
     "output_type": "stream",
     "text": [
      "2016-10-03 16:39:12,249 INFO sqlalchemy.engine.base.Engine SELECT payments.\"ID\", payments.\"PAY1\", payments.\"PAY2\", payments.\"PAY3\", payments.\"PAY4\", payments.\"PAY5\", payments.\"PAY6\" \n",
      "FROM payments\n",
      "2016-10-03 16:39:12,250 INFO sqlalchemy.engine.base.Engine ()\n"
     ]
    }
   ],
   "source": [
    "import sqlalchemy\n",
    "filename = os.path.join(folder, 'payments.sqlite')\n",
    "engine = sqlalchemy.create_engine('sqlite:///' + filename, echo=False)\n",
    "\n",
    "# Infer from existing DB.\n",
    "metadata = sqlalchemy.MetaData()\n",
    "metadata.reflect(engine)\n",
    "\n",
    "# An SQL SELECT statement.\n",
    "table = metadata.tables.get('payments')\n",
    "op = sqlalchemy.sql.select([table])\n",
    "engine.echo = True\n",
    "result = engine.execute(op)\n",
    "engine.echo = False"
   ]
  },
  {
   "cell_type": "code",
   "execution_count": 5,
   "metadata": {
    "collapsed": false
   },
   "outputs": [
    {
     "name": "stdout",
     "output_type": "stream",
     "text": [
      "ID:  1, payments: (0, 689, 0, 0, 0, 0)\n",
      "ID:  2, payments: (0, 1000, 1000, 1000, 0, 2000)\n",
      "ID:  3, payments: (1518, 1500, 1000, 1000, 1000, 5000)\n",
      "ID:  4, payments: (2000, 2019, 1200, 1100, 1069, 1000)\n",
      "ID:  5, payments: (2000, 36681, 10000, 9000, 689, 679)\n",
      "ID:  6, payments: (2500, 1815, 657, 1000, 1000, 800)\n",
      "ID:  7, payments: (55000, 40000, 38000, 20239, 13750, 13770)\n",
      "ID:  8, payments: (380, 601, 0, 581, 1687, 1542)\n",
      "ID:  9, payments: (3329, 0, 432, 1000, 1000, 1000)\n",
      "ID: 10, payments: (0, 0, 0, 13007, 1122, 0)\n"
     ]
    }
   ],
   "source": [
    "# Show some lines, i.e. clients.\n",
    "for row in result.fetchmany(size=10):\n",
    "    print('ID: {:2d}, payments: {}'.format(row[0], row[1:]))\n",
    "result.close()"
   ]
  },
  {
   "cell_type": "code",
   "execution_count": 6,
   "metadata": {
    "collapsed": false
   },
   "outputs": [
    {
     "name": "stdout",
     "output_type": "stream",
     "text": [
      "1299 clients paid 1000 in April 2005\n"
     ]
    }
   ],
   "source": [
    "# Execute some raw SQL.\n",
    "paid = 1000\n",
    "op = sqlalchemy.sql.text('SELECT payments.\"ID\", payments.\"PAY6\" FROM payments WHERE payments.\"PAY6\" = {}'.format(paid))\n",
    "result = engine.execute(op).fetchall()\n",
    "print('{} clients paid {} in April 2005'.format(len(result), paid))"
   ]
  },
  {
   "cell_type": "markdown",
   "metadata": {},
   "source": [
    "### 1.2 Merging data Sources\n",
    "\n",
    "Put some [pandas](http://pandas.pydata.org/) in our Python !\n",
    "* Import / export data from / to various sources.\n",
    "* Data frames manipulations: slicing, dicing, grouping.\n",
    "* And many more !"
   ]
  },
  {
   "cell_type": "code",
   "execution_count": 7,
   "metadata": {
    "collapsed": false
   },
   "outputs": [],
   "source": [
    "def get_data(directory):\n",
    "    filename_csv = os.path.join(directory, 'demographics.csv')\n",
    "    filename_xls = os.path.join(directory, 'delays.xls')\n",
    "    filename_hdf = os.path.join(directory, 'bills.hdf5')\n",
    "    filename_json = os.path.join(directory, 'target.json')\n",
    "\n",
    "    demographics = pd.read_csv(filename_csv, index_col=0)\n",
    "    delays = pd.read_excel(filename_xls, index_col=0)\n",
    "    bills = pd.read_hdf(filename_hdf, 'bills')\n",
    "    payments = pd.read_sql('payments', engine, index_col='ID')\n",
    "    target = pd.read_json(filename_json)\n",
    "\n",
    "    return pd.concat([demographics, delays, bills, payments, target], axis=1)\n",
    "\n",
    "import pandas as pd\n",
    "data = get_data(folder)\n",
    "attributes = data.columns.tolist()\n",
    "\n",
    "# Tansform from numerical to categorical variable.\n",
    "data['SEX'] = data['SEX'].astype('category')\n",
    "data['SEX'].cat.categories = ['MALE', 'FEMALE']\n",
    "data['MARRIAGE'] = data['MARRIAGE'].astype('category')\n",
    "data['MARRIAGE'].cat.categories = ['UNK', 'MARRIED', 'SINGLE', 'OTHERS']\n",
    "data['EDUCATION'] = data['EDUCATION'].astype('category')\n",
    "data['EDUCATION'].cat.categories = ['UNK', 'GRAD SCHOOL', 'UNIVERSITY', 'HIGH SCHOOL', 'OTHERS', 'UNK1', 'UNK2']"
   ]
  },
  {
   "cell_type": "markdown",
   "metadata": {},
   "source": [
    "### 1.3 Looking at the Data"
   ]
  },
  {
   "cell_type": "code",
   "execution_count": 8,
   "metadata": {
    "collapsed": false
   },
   "outputs": [
    {
     "data": {
      "text/html": [
       "<div>\n",
       "<table border=\"1\" class=\"dataframe\">\n",
       "  <thead>\n",
       "    <tr style=\"text-align: right;\">\n",
       "      <th></th>\n",
       "      <th>LIMIT</th>\n",
       "      <th>SEX</th>\n",
       "      <th>EDUCATION</th>\n",
       "      <th>MARRIAGE</th>\n",
       "      <th>AGE</th>\n",
       "      <th>DEFAULT</th>\n",
       "    </tr>\n",
       "    <tr>\n",
       "      <th>ID</th>\n",
       "      <th></th>\n",
       "      <th></th>\n",
       "      <th></th>\n",
       "      <th></th>\n",
       "      <th></th>\n",
       "      <th></th>\n",
       "    </tr>\n",
       "  </thead>\n",
       "  <tbody>\n",
       "    <tr>\n",
       "      <th>1</th>\n",
       "      <td>20000</td>\n",
       "      <td>FEMALE</td>\n",
       "      <td>UNIVERSITY</td>\n",
       "      <td>MARRIED</td>\n",
       "      <td>24</td>\n",
       "      <td>1</td>\n",
       "    </tr>\n",
       "    <tr>\n",
       "      <th>2</th>\n",
       "      <td>120000</td>\n",
       "      <td>FEMALE</td>\n",
       "      <td>UNIVERSITY</td>\n",
       "      <td>SINGLE</td>\n",
       "      <td>26</td>\n",
       "      <td>1</td>\n",
       "    </tr>\n",
       "    <tr>\n",
       "      <th>3</th>\n",
       "      <td>90000</td>\n",
       "      <td>FEMALE</td>\n",
       "      <td>UNIVERSITY</td>\n",
       "      <td>SINGLE</td>\n",
       "      <td>34</td>\n",
       "      <td>0</td>\n",
       "    </tr>\n",
       "    <tr>\n",
       "      <th>4</th>\n",
       "      <td>50000</td>\n",
       "      <td>FEMALE</td>\n",
       "      <td>UNIVERSITY</td>\n",
       "      <td>MARRIED</td>\n",
       "      <td>37</td>\n",
       "      <td>0</td>\n",
       "    </tr>\n",
       "    <tr>\n",
       "      <th>5</th>\n",
       "      <td>50000</td>\n",
       "      <td>MALE</td>\n",
       "      <td>UNIVERSITY</td>\n",
       "      <td>MARRIED</td>\n",
       "      <td>57</td>\n",
       "      <td>0</td>\n",
       "    </tr>\n",
       "    <tr>\n",
       "      <th>6</th>\n",
       "      <td>50000</td>\n",
       "      <td>MALE</td>\n",
       "      <td>GRAD SCHOOL</td>\n",
       "      <td>SINGLE</td>\n",
       "      <td>37</td>\n",
       "      <td>0</td>\n",
       "    </tr>\n",
       "  </tbody>\n",
       "</table>\n",
       "</div>"
      ],
      "text/plain": [
       "     LIMIT     SEX    EDUCATION MARRIAGE  AGE  DEFAULT\n",
       "ID                                                    \n",
       "1    20000  FEMALE   UNIVERSITY  MARRIED   24        1\n",
       "2   120000  FEMALE   UNIVERSITY   SINGLE   26        1\n",
       "3    90000  FEMALE   UNIVERSITY   SINGLE   34        0\n",
       "4    50000  FEMALE   UNIVERSITY  MARRIED   37        0\n",
       "5    50000    MALE   UNIVERSITY  MARRIED   57        0\n",
       "6    50000    MALE  GRAD SCHOOL   SINGLE   37        0"
      ]
     },
     "execution_count": 8,
     "metadata": {},
     "output_type": "execute_result"
    }
   ],
   "source": [
    "data.loc[:6, ['LIMIT', 'SEX', 'EDUCATION', 'MARRIAGE', 'AGE', 'DEFAULT']]"
   ]
  },
  {
   "cell_type": "code",
   "execution_count": 9,
   "metadata": {
    "collapsed": false,
    "scrolled": true
   },
   "outputs": [
    {
     "data": {
      "text/html": [
       "<div>\n",
       "<table border=\"1\" class=\"dataframe\">\n",
       "  <thead>\n",
       "    <tr style=\"text-align: right;\">\n",
       "      <th></th>\n",
       "      <th>AGE</th>\n",
       "      <th>DELAY1</th>\n",
       "      <th>DELAY2</th>\n",
       "      <th>DELAY3</th>\n",
       "      <th>DELAY4</th>\n",
       "      <th>DELAY5</th>\n",
       "    </tr>\n",
       "    <tr>\n",
       "      <th>ID</th>\n",
       "      <th></th>\n",
       "      <th></th>\n",
       "      <th></th>\n",
       "      <th></th>\n",
       "      <th></th>\n",
       "      <th></th>\n",
       "    </tr>\n",
       "  </thead>\n",
       "  <tbody>\n",
       "    <tr>\n",
       "      <th>1</th>\n",
       "      <td>24</td>\n",
       "      <td>2</td>\n",
       "      <td>2</td>\n",
       "      <td>-1</td>\n",
       "      <td>-1</td>\n",
       "      <td>-2</td>\n",
       "    </tr>\n",
       "    <tr>\n",
       "      <th>2</th>\n",
       "      <td>26</td>\n",
       "      <td>-1</td>\n",
       "      <td>2</td>\n",
       "      <td>0</td>\n",
       "      <td>0</td>\n",
       "      <td>0</td>\n",
       "    </tr>\n",
       "    <tr>\n",
       "      <th>3</th>\n",
       "      <td>34</td>\n",
       "      <td>0</td>\n",
       "      <td>0</td>\n",
       "      <td>0</td>\n",
       "      <td>0</td>\n",
       "      <td>0</td>\n",
       "    </tr>\n",
       "    <tr>\n",
       "      <th>4</th>\n",
       "      <td>37</td>\n",
       "      <td>0</td>\n",
       "      <td>0</td>\n",
       "      <td>0</td>\n",
       "      <td>0</td>\n",
       "      <td>0</td>\n",
       "    </tr>\n",
       "    <tr>\n",
       "      <th>5</th>\n",
       "      <td>57</td>\n",
       "      <td>-1</td>\n",
       "      <td>0</td>\n",
       "      <td>-1</td>\n",
       "      <td>0</td>\n",
       "      <td>0</td>\n",
       "    </tr>\n",
       "  </tbody>\n",
       "</table>\n",
       "</div>"
      ],
      "text/plain": [
       "    AGE  DELAY1  DELAY2  DELAY3  DELAY4  DELAY5\n",
       "ID                                             \n",
       "1    24       2       2      -1      -1      -2\n",
       "2    26      -1       2       0       0       0\n",
       "3    34       0       0       0       0       0\n",
       "4    37       0       0       0       0       0\n",
       "5    57      -1       0      -1       0       0"
      ]
     },
     "execution_count": 9,
     "metadata": {},
     "output_type": "execute_result"
    }
   ],
   "source": [
    "data.iloc[:5, 4:10]"
   ]
  },
  {
   "cell_type": "code",
   "execution_count": 10,
   "metadata": {
    "collapsed": false
   },
   "outputs": [
    {
     "data": {
      "text/html": [
       "<div>\n",
       "<table border=\"1\" class=\"dataframe\">\n",
       "  <thead>\n",
       "    <tr style=\"text-align: right;\">\n",
       "      <th></th>\n",
       "      <th>BILL1</th>\n",
       "      <th>BILL2</th>\n",
       "      <th>BILL3</th>\n",
       "      <th>BILL4</th>\n",
       "      <th>BILL5</th>\n",
       "      <th>BILL6</th>\n",
       "      <th>PAY1</th>\n",
       "      <th>PAY2</th>\n",
       "      <th>PAY3</th>\n",
       "      <th>PAY4</th>\n",
       "      <th>PAY5</th>\n",
       "      <th>PAY6</th>\n",
       "    </tr>\n",
       "    <tr>\n",
       "      <th>ID</th>\n",
       "      <th></th>\n",
       "      <th></th>\n",
       "      <th></th>\n",
       "      <th></th>\n",
       "      <th></th>\n",
       "      <th></th>\n",
       "      <th></th>\n",
       "      <th></th>\n",
       "      <th></th>\n",
       "      <th></th>\n",
       "      <th></th>\n",
       "      <th></th>\n",
       "    </tr>\n",
       "  </thead>\n",
       "  <tbody>\n",
       "    <tr>\n",
       "      <th>1</th>\n",
       "      <td>3913</td>\n",
       "      <td>3102</td>\n",
       "      <td>689</td>\n",
       "      <td>0</td>\n",
       "      <td>0</td>\n",
       "      <td>0</td>\n",
       "      <td>0</td>\n",
       "      <td>689</td>\n",
       "      <td>0</td>\n",
       "      <td>0</td>\n",
       "      <td>0</td>\n",
       "      <td>0</td>\n",
       "    </tr>\n",
       "    <tr>\n",
       "      <th>2</th>\n",
       "      <td>2682</td>\n",
       "      <td>1725</td>\n",
       "      <td>2682</td>\n",
       "      <td>3272</td>\n",
       "      <td>3455</td>\n",
       "      <td>3261</td>\n",
       "      <td>0</td>\n",
       "      <td>1000</td>\n",
       "      <td>1000</td>\n",
       "      <td>1000</td>\n",
       "      <td>0</td>\n",
       "      <td>2000</td>\n",
       "    </tr>\n",
       "    <tr>\n",
       "      <th>3</th>\n",
       "      <td>29239</td>\n",
       "      <td>14027</td>\n",
       "      <td>13559</td>\n",
       "      <td>14331</td>\n",
       "      <td>14948</td>\n",
       "      <td>15549</td>\n",
       "      <td>1518</td>\n",
       "      <td>1500</td>\n",
       "      <td>1000</td>\n",
       "      <td>1000</td>\n",
       "      <td>1000</td>\n",
       "      <td>5000</td>\n",
       "    </tr>\n",
       "    <tr>\n",
       "      <th>4</th>\n",
       "      <td>46990</td>\n",
       "      <td>48233</td>\n",
       "      <td>49291</td>\n",
       "      <td>28314</td>\n",
       "      <td>28959</td>\n",
       "      <td>29547</td>\n",
       "      <td>2000</td>\n",
       "      <td>2019</td>\n",
       "      <td>1200</td>\n",
       "      <td>1100</td>\n",
       "      <td>1069</td>\n",
       "      <td>1000</td>\n",
       "    </tr>\n",
       "    <tr>\n",
       "      <th>5</th>\n",
       "      <td>8617</td>\n",
       "      <td>5670</td>\n",
       "      <td>35835</td>\n",
       "      <td>20940</td>\n",
       "      <td>19146</td>\n",
       "      <td>19131</td>\n",
       "      <td>2000</td>\n",
       "      <td>36681</td>\n",
       "      <td>10000</td>\n",
       "      <td>9000</td>\n",
       "      <td>689</td>\n",
       "      <td>679</td>\n",
       "    </tr>\n",
       "  </tbody>\n",
       "</table>\n",
       "</div>"
      ],
      "text/plain": [
       "    BILL1  BILL2  BILL3  BILL4  BILL5  BILL6  PAY1   PAY2   PAY3  PAY4  PAY5  \\\n",
       "ID                                                                             \n",
       "1    3913   3102    689      0      0      0     0    689      0     0     0   \n",
       "2    2682   1725   2682   3272   3455   3261     0   1000   1000  1000     0   \n",
       "3   29239  14027  13559  14331  14948  15549  1518   1500   1000  1000  1000   \n",
       "4   46990  48233  49291  28314  28959  29547  2000   2019   1200  1100  1069   \n",
       "5    8617   5670  35835  20940  19146  19131  2000  36681  10000  9000   689   \n",
       "\n",
       "    PAY6  \n",
       "ID        \n",
       "1      0  \n",
       "2   2000  \n",
       "3   5000  \n",
       "4   1000  \n",
       "5    679  "
      ]
     },
     "execution_count": 10,
     "metadata": {},
     "output_type": "execute_result"
    }
   ],
   "source": [
    "data.iloc[:5, 11:23]"
   ]
  },
  {
   "cell_type": "markdown",
   "metadata": {},
   "source": [
    "Export as an [HTML table](./subset.html) for manual inspection."
   ]
  },
  {
   "cell_type": "code",
   "execution_count": 11,
   "metadata": {
    "collapsed": true
   },
   "outputs": [],
   "source": [
    "data[:1000].to_html('subset.html')"
   ]
  },
  {
   "cell_type": "markdown",
   "metadata": {},
   "source": [
    "## 2 Data Cleaning\n",
    "\n",
    "While cleaning data is the [most time-consuming, least enjoyable Data Science task](http://www.forbes.com/sites/gilpress/2016/03/23/data-preparation-most-time-consuming-least-enjoyable-data-science-task-survey-says), it should be perfomed nonetheless. Problems come in two flavours:\n",
    "\n",
    "1. Missing data, i.e. unknown values.\n",
    "1. Errors in data, i.e. wrong values.\n",
    "\n",
    "The actions to be taken in each case is highly **data and problem specific**."
   ]
  },
  {
   "cell_type": "markdown",
   "metadata": {},
   "source": [
    "Example: marital status\n",
    "1. According to dataset description, it should either be 1 (married), 2 (single) or 3 (others).\n",
    "1. But we find some 0 (previously transformed to `UNK`).\n",
    "1. Let's *assume* that 0 represents errors when collecting the data and that we should remove those clients."
   ]
  },
  {
   "cell_type": "code",
   "execution_count": 12,
   "metadata": {
    "collapsed": false
   },
   "outputs": [
    {
     "name": "stdout",
     "output_type": "stream",
     "text": [
      "SINGLE     15964\n",
      "MARRIED    13659\n",
      "OTHERS       323\n",
      "UNK           54\n",
      "Name: MARRIAGE, dtype: int64\n",
      "\n",
      "We are left with (29946, 24) clients\n",
      "\n",
      "[MARRIED, SINGLE, OTHERS]\n",
      "Categories (3, object): [MARRIED, SINGLE, OTHERS]\n"
     ]
    }
   ],
   "source": [
    "print(data['MARRIAGE'].value_counts())\n",
    "data = data[data['MARRIAGE'] != 'UNK']\n",
    "data['MARRIAGE'] = data['MARRIAGE'].cat.remove_unused_categories()\n",
    "print('\\nWe are left with {} clients\\n'.format(data.shape))\n",
    "print(data['MARRIAGE'].unique())"
   ]
  },
  {
   "cell_type": "markdown",
   "metadata": {},
   "source": [
    "Example: education\n",
    "1. It should either be 1 (graduate school), 2 (university), 3 (high school) or 4 (others).\n",
    "1. But we find some 0, 5 and 6 (previously transformed to `UNK`, `UNK1` and `UNK2`).\n",
    "1. Let's *assume* these values are dubious, but do not invalidate the data and keep them as they may have some predictive power."
   ]
  },
  {
   "cell_type": "code",
   "execution_count": 13,
   "metadata": {
    "collapsed": false
   },
   "outputs": [
    {
     "name": "stdout",
     "output_type": "stream",
     "text": [
      "UNIVERSITY     14024\n",
      "GRAD SCHOOL    10581\n",
      "HIGH SCHOOL     4873\n",
      "UNK1             280\n",
      "OTHERS           123\n",
      "UNK2              51\n",
      "UNK               14\n",
      "Name: EDUCATION, dtype: int64\n",
      "UNIVERSITY     14024\n",
      "GRAD SCHOOL    10581\n",
      "HIGH SCHOOL     4873\n",
      "UNK              345\n",
      "OTHERS           123\n",
      "Name: EDUCATION, dtype: int64\n"
     ]
    }
   ],
   "source": [
    "print(data['EDUCATION'].value_counts())\n",
    "data.loc[data['EDUCATION']=='UNK1', 'EDUCATION'] = 'UNK'\n",
    "data.loc[data['EDUCATION']=='UNK2', 'EDUCATION'] = 'UNK'\n",
    "data['EDUCATION'] = data['EDUCATION'].cat.remove_unused_categories()\n",
    "print(data['EDUCATION'].value_counts())"
   ]
  },
  {
   "cell_type": "markdown",
   "metadata": {},
   "source": [
    "## 3 Data Exploration\n",
    "\n",
    "* Get descriptive statistics.\n",
    "* Plot informative figures.\n",
    "* Verify some intuitive correlations.\n",
    "\n",
    "Let's get first some descriptive statistics of our numerical variables."
   ]
  },
  {
   "cell_type": "code",
   "execution_count": 14,
   "metadata": {
    "collapsed": false
   },
   "outputs": [
    {
     "data": {
      "text/html": [
       "<div>\n",
       "<table border=\"1\" class=\"dataframe\">\n",
       "  <thead>\n",
       "    <tr style=\"text-align: right;\">\n",
       "      <th></th>\n",
       "      <th>LIMIT</th>\n",
       "      <th>AGE</th>\n",
       "      <th>BILL1</th>\n",
       "      <th>BILL2</th>\n",
       "      <th>BILL3</th>\n",
       "      <th>BILL4</th>\n",
       "      <th>BILL5</th>\n",
       "      <th>BILL6</th>\n",
       "      <th>PAY1</th>\n",
       "      <th>PAY2</th>\n",
       "      <th>PAY3</th>\n",
       "      <th>PAY4</th>\n",
       "      <th>PAY5</th>\n",
       "      <th>PAY6</th>\n",
       "    </tr>\n",
       "  </thead>\n",
       "  <tbody>\n",
       "    <tr>\n",
       "      <th>count</th>\n",
       "      <td>29946</td>\n",
       "      <td>29946</td>\n",
       "      <td>29946</td>\n",
       "      <td>29946</td>\n",
       "      <td>29946</td>\n",
       "      <td>29946</td>\n",
       "      <td>29946</td>\n",
       "      <td>29946</td>\n",
       "      <td>29946</td>\n",
       "      <td>29946</td>\n",
       "      <td>29946</td>\n",
       "      <td>29946</td>\n",
       "      <td>29946</td>\n",
       "      <td>29946</td>\n",
       "    </tr>\n",
       "    <tr>\n",
       "      <th>mean</th>\n",
       "      <td>167546</td>\n",
       "      <td>35</td>\n",
       "      <td>51278</td>\n",
       "      <td>49224</td>\n",
       "      <td>47063</td>\n",
       "      <td>43306</td>\n",
       "      <td>40352</td>\n",
       "      <td>38911</td>\n",
       "      <td>5659</td>\n",
       "      <td>5926</td>\n",
       "      <td>5227</td>\n",
       "      <td>4829</td>\n",
       "      <td>4804</td>\n",
       "      <td>5220</td>\n",
       "    </tr>\n",
       "    <tr>\n",
       "      <th>std</th>\n",
       "      <td>129807</td>\n",
       "      <td>9</td>\n",
       "      <td>73682</td>\n",
       "      <td>71219</td>\n",
       "      <td>69393</td>\n",
       "      <td>64374</td>\n",
       "      <td>60836</td>\n",
       "      <td>59592</td>\n",
       "      <td>16552</td>\n",
       "      <td>23060</td>\n",
       "      <td>17618</td>\n",
       "      <td>15677</td>\n",
       "      <td>15290</td>\n",
       "      <td>17791</td>\n",
       "    </tr>\n",
       "    <tr>\n",
       "      <th>min</th>\n",
       "      <td>10000</td>\n",
       "      <td>21</td>\n",
       "      <td>-165580</td>\n",
       "      <td>-69777</td>\n",
       "      <td>-157264</td>\n",
       "      <td>-170000</td>\n",
       "      <td>-81334</td>\n",
       "      <td>-339603</td>\n",
       "      <td>0</td>\n",
       "      <td>0</td>\n",
       "      <td>0</td>\n",
       "      <td>0</td>\n",
       "      <td>0</td>\n",
       "      <td>0</td>\n",
       "    </tr>\n",
       "    <tr>\n",
       "      <th>25%</th>\n",
       "      <td>50000</td>\n",
       "      <td>28</td>\n",
       "      <td>3570</td>\n",
       "      <td>2988</td>\n",
       "      <td>2684</td>\n",
       "      <td>2335</td>\n",
       "      <td>1770</td>\n",
       "      <td>1261</td>\n",
       "      <td>1000</td>\n",
       "      <td>836</td>\n",
       "      <td>390</td>\n",
       "      <td>298</td>\n",
       "      <td>255</td>\n",
       "      <td>122</td>\n",
       "    </tr>\n",
       "    <tr>\n",
       "      <th>50%</th>\n",
       "      <td>140000</td>\n",
       "      <td>34</td>\n",
       "      <td>22400</td>\n",
       "      <td>21221</td>\n",
       "      <td>20108</td>\n",
       "      <td>19066</td>\n",
       "      <td>18121</td>\n",
       "      <td>17098</td>\n",
       "      <td>2100</td>\n",
       "      <td>2010</td>\n",
       "      <td>1800</td>\n",
       "      <td>1500</td>\n",
       "      <td>1500</td>\n",
       "      <td>1500</td>\n",
       "    </tr>\n",
       "    <tr>\n",
       "      <th>75%</th>\n",
       "      <td>240000</td>\n",
       "      <td>41</td>\n",
       "      <td>67263</td>\n",
       "      <td>64108</td>\n",
       "      <td>60240</td>\n",
       "      <td>54601</td>\n",
       "      <td>50244</td>\n",
       "      <td>49248</td>\n",
       "      <td>5007</td>\n",
       "      <td>5000</td>\n",
       "      <td>4511</td>\n",
       "      <td>4015</td>\n",
       "      <td>4040</td>\n",
       "      <td>4000</td>\n",
       "    </tr>\n",
       "    <tr>\n",
       "      <th>max</th>\n",
       "      <td>1000000</td>\n",
       "      <td>79</td>\n",
       "      <td>964511</td>\n",
       "      <td>983931</td>\n",
       "      <td>1664089</td>\n",
       "      <td>891586</td>\n",
       "      <td>927171</td>\n",
       "      <td>961664</td>\n",
       "      <td>873552</td>\n",
       "      <td>1684259</td>\n",
       "      <td>896040</td>\n",
       "      <td>621000</td>\n",
       "      <td>426529</td>\n",
       "      <td>528666</td>\n",
       "    </tr>\n",
       "  </tbody>\n",
       "</table>\n",
       "</div>"
      ],
      "text/plain": [
       "         LIMIT    AGE   BILL1   BILL2    BILL3   BILL4   BILL5   BILL6  \\\n",
       "count    29946  29946   29946   29946    29946   29946   29946   29946   \n",
       "mean    167546     35   51278   49224    47063   43306   40352   38911   \n",
       "std     129807      9   73682   71219    69393   64374   60836   59592   \n",
       "min      10000     21 -165580  -69777  -157264 -170000  -81334 -339603   \n",
       "25%      50000     28    3570    2988     2684    2335    1770    1261   \n",
       "50%     140000     34   22400   21221    20108   19066   18121   17098   \n",
       "75%     240000     41   67263   64108    60240   54601   50244   49248   \n",
       "max    1000000     79  964511  983931  1664089  891586  927171  961664   \n",
       "\n",
       "         PAY1     PAY2    PAY3    PAY4    PAY5    PAY6  \n",
       "count   29946    29946   29946   29946   29946   29946  \n",
       "mean     5659     5926    5227    4829    4804    5220  \n",
       "std     16552    23060   17618   15677   15290   17791  \n",
       "min         0        0       0       0       0       0  \n",
       "25%      1000      836     390     298     255     122  \n",
       "50%      2100     2010    1800    1500    1500    1500  \n",
       "75%      5007     5000    4511    4015    4040    4000  \n",
       "max    873552  1684259  896040  621000  426529  528666  "
      ]
     },
     "execution_count": 14,
     "metadata": {},
     "output_type": "execute_result"
    }
   ],
   "source": [
    "attributes_numerical = ['LIMIT', 'AGE']\n",
    "attributes_numerical.extend(attributes[11:23])\n",
    "data.loc[:, attributes_numerical].describe().astype(np.int)"
   ]
  },
  {
   "cell_type": "markdown",
   "metadata": {},
   "source": [
    "Let's plot an histogram of the ages, so that we get a better impression of who our clients are. That may even be an end goal, e.g. if your marketing team asks which customer groups to target.\n",
    "\n",
    "Then a boxplot of the bills, which may serve as a verification of the quality of the acquired data."
   ]
  },
  {
   "cell_type": "code",
   "execution_count": 15,
   "metadata": {
    "collapsed": false
   },
   "outputs": [
    {
     "data": {
      "image/png": "[encoded data removed]",
      "text/plain": [
       "<matplotlib.figure.Figure at 0x7fa8e2f41e10>"
      ]
     },
     "metadata": {},
     "output_type": "display_data"
    },
    {
     "data": {
      "image/png": "[encoded data removed]",
      "text/plain": [
       "<matplotlib.figure.Figure at 0x7fa8e2e51e10>"
      ]
     },
     "metadata": {},
     "output_type": "display_data"
    }
   ],
   "source": [
    "data.loc[:, 'AGE'].plot.hist(bins=20, figsize=(15,5))\n",
    "ax = data.iloc[:, 11:17].plot.box(logy=True, figsize=(15,5))"
   ]
  },
  {
   "cell_type": "markdown",
   "metadata": {},
   "source": [
    "Simple **question**: which proportion of our clients default ?"
   ]
  },
  {
   "cell_type": "code",
   "execution_count": 16,
   "metadata": {
    "collapsed": false
   },
   "outputs": [
    {
     "name": "stdout",
     "output_type": "stream",
     "text": [
      "Percentage of defaults: 22.14%\n"
     ]
    }
   ],
   "source": [
    "percentage = data['DEFAULT'].value_counts()[1] / data.shape[0] * 100\n",
    "print('Percentage of defaults: {:.2f}%'.format(percentage))"
   ]
  },
  {
   "cell_type": "markdown",
   "metadata": {},
   "source": [
    "Another **question**: who's more susceptible to default, males or females ?"
   ]
  },
  {
   "cell_type": "code",
   "execution_count": 17,
   "metadata": {
    "collapsed": false
   },
   "outputs": [
    {
     "data": {
      "text/html": [
       "<div>\n",
       "<table border=\"1\" class=\"dataframe\">\n",
       "  <thead>\n",
       "    <tr style=\"text-align: right;\">\n",
       "      <th>DEFAULT</th>\n",
       "      <th>0</th>\n",
       "      <th>1</th>\n",
       "      <th>All</th>\n",
       "    </tr>\n",
       "    <tr>\n",
       "      <th>SEX</th>\n",
       "      <th></th>\n",
       "      <th></th>\n",
       "      <th></th>\n",
       "    </tr>\n",
       "  </thead>\n",
       "  <tbody>\n",
       "    <tr>\n",
       "      <th>MALE</th>\n",
       "      <td>9003</td>\n",
       "      <td>2871</td>\n",
       "      <td>11874</td>\n",
       "    </tr>\n",
       "    <tr>\n",
       "      <th>FEMALE</th>\n",
       "      <td>14312</td>\n",
       "      <td>3760</td>\n",
       "      <td>18072</td>\n",
       "    </tr>\n",
       "    <tr>\n",
       "      <th>All</th>\n",
       "      <td>23315</td>\n",
       "      <td>6631</td>\n",
       "      <td>29946</td>\n",
       "    </tr>\n",
       "  </tbody>\n",
       "</table>\n",
       "</div>"
      ],
      "text/plain": [
       "DEFAULT      0     1    All\n",
       "SEX                        \n",
       "MALE      9003  2871  11874\n",
       "FEMALE   14312  3760  18072\n",
       "All      23315  6631  29946"
      ]
     },
     "execution_count": 17,
     "metadata": {},
     "output_type": "execute_result"
    }
   ],
   "source": [
    "observed = pd.crosstab(data['SEX'], data['DEFAULT'], margins=True)\n",
    "observed"
   ]
  },
  {
   "cell_type": "markdown",
   "metadata": {},
   "source": [
    "Seems like females are better risk. Let's verify with a Chi-Squared test of independance, using [scipy.stats](http://docs.scipy.org/doc/scipy/reference/stats.html)."
   ]
  },
  {
   "cell_type": "code",
   "execution_count": 18,
   "metadata": {
    "collapsed": false
   },
   "outputs": [
    {
     "name": "stdout",
     "output_type": "stream",
     "text": [
      "p-value = 6.75e-12\n",
      "expected values:\n",
      "[[  9244.71749148   2629.28250852]\n",
      " [ 14070.28250852   4001.71749148]]\n"
     ]
    }
   ],
   "source": [
    "import scipy.stats as stats\n",
    "_, p, _, expected = stats.chi2_contingency(observed.iloc[:2,:2])\n",
    "print('p-value = {:.2e}'.format(p))\n",
    "print('expected values:\\n{}'.format(expected))"
   ]
  },
  {
   "cell_type": "markdown",
   "metadata": {},
   "source": [
    "**Intuition**: people who pay late present a higher risk of defaulting. Let's verify !\n",
    "Verifying some intuitions will also help you to identify mistakes. E.g. it would be suspicious if that intuition is not verified in the data: did we select the right column, or did we miss-compute a result ?"
   ]
  },
  {
   "cell_type": "code",
   "execution_count": 19,
   "metadata": {
    "collapsed": false
   },
   "outputs": [
    {
     "data": {
      "image/png": "[encoded data removed]",
      "text/plain": [
       "<matplotlib.figure.Figure at 0x7fa8e348b630>"
      ]
     },
     "metadata": {},
     "output_type": "display_data"
    }
   ],
   "source": [
    "group = data.groupby('DELAY1').mean()\n",
    "corr = data['DEFAULT'].corr(data['DELAY1'], method='pearson')\n",
    "group['DEFAULT'].plot(grid=True, title='Pearson correlation: {:.4f}'.format(corr), figsize=(15,5));"
   ]
  },
  {
   "cell_type": "markdown",
   "metadata": {},
   "source": [
    "## 4 Interactive Visualization\n",
    "\n",
    "[Bokeh](http://bokeh.pydata.org) is a Python interactive visualization library that targets modern web browsers for presentation, in the style of [D3.js](https://d3js.org). Alternatively, [matplotlib.widgets](http://matplotlib.org/api/widgets_api.html) could be used. Those interactive visualizations are very helpful to explore the data at hand in the quest of anomalies or patterns. Try with the plots below !"
   ]
  },
  {
   "cell_type": "code",
   "execution_count": 20,
   "metadata": {
    "collapsed": false
   },
   "outputs": [
    {
     "data": {
      "text/html": [
       "\n",
       "    <div class=\"bk-root\">\n",
       "        <a href=\"http://bokeh.pydata.org\" target=\"_blank\" class=\"bk-logo bk-logo-small bk-logo-notebook\"></a>\n",
       "        <span id=\"7b77f374-4a3e-4e13-ac3b-12afef2ca48b\">Loading BokehJS ...</span>\n",
       "    </div>"
      ]
     },
     "metadata": {},
     "output_type": "display_data"
    },
    {
     "data": {
      "application/javascript": [
       "\n",
       "(function(global) {\n",
       "  function now() {\n",
       "    return new Date();\n",
       "  }\n",
       "\n",
       "  var force = \"1\";\n",
       "\n",
       "  if (typeof (window._bokeh_onload_callbacks) === \"undefined\" || force !== \"\") {\n",
       "    window._bokeh_onload_callbacks = [];\n",
       "    window._bokeh_is_loading = undefined;\n",
       "  }\n",
       "\n",
       "\n",
       "  \n",
       "  if (typeof (window._bokeh_timeout) === \"undefined\" || force !== \"\") {\n",
       "    window._bokeh_timeout = Date.now() + 5000;\n",
       "    window._bokeh_failed_load = false;\n",
       "  }\n",
       "\n",
       "  var NB_LOAD_WARNING = {'data': {'text/html':\n",
       "     \"<div style='background-color: #fdd'>\\n\"+\n",
       "     \"<p>\\n\"+\n",
       "     \"BokehJS does not appear to have successfully loaded. If loading BokehJS from CDN, this \\n\"+\n",
       "     \"may be due to a slow or bad network connection. Possible fixes:\\n\"+\n",
       "     \"</p>\\n\"+\n",
       "     \"<ul>\\n\"+\n",
       "     \"<li>re-rerun `output_notebook()` to attempt to load from CDN again, or</li>\\n\"+\n",
       "     \"<li>use INLINE resources instead, as so:</li>\\n\"+\n",
       "     \"</ul>\\n\"+\n",
       "     \"<code>\\n\"+\n",
       "     \"from bokeh.resources import INLINE\\n\"+\n",
       "     \"output_notebook(resources=INLINE)\\n\"+\n",
       "     \"</code>\\n\"+\n",
       "     \"</div>\"}};\n",
       "\n",
       "  function display_loaded() {\n",
       "    if (window.Bokeh !== undefined) {\n",
       "      Bokeh.$(\"#7b77f374-4a3e-4e13-ac3b-12afef2ca48b\").text(\"BokehJS successfully loaded.\");\n",
       "    } else if (Date.now() < window._bokeh_timeout) {\n",
       "      setTimeout(display_loaded, 100)\n",
       "    }\n",
       "  }\n",
       "\n",
       "  function run_callbacks() {\n",
       "    window._bokeh_onload_callbacks.forEach(function(callback) { callback() });\n",
       "    delete window._bokeh_onload_callbacks\n",
       "    console.info(\"Bokeh: all callbacks have finished\");\n",
       "  }\n",
       "\n",
       "  function load_libs(js_urls, callback) {\n",
       "    window._bokeh_onload_callbacks.push(callback);\n",
       "    if (window._bokeh_is_loading > 0) {\n",
       "      console.log(\"Bokeh: BokehJS is being loaded, scheduling callback at\", now());\n",
       "      return null;\n",
       "    }\n",
       "    if (js_urls == null || js_urls.length === 0) {\n",
       "      run_callbacks();\n",
       "      return null;\n",
       "    }\n",
       "    console.log(\"Bokeh: BokehJS not loaded, scheduling load and callback at\", now());\n",
       "    window._bokeh_is_loading = js_urls.length;\n",
       "    for (var i = 0; i < js_urls.length; i++) {\n",
       "      var url = js_urls[i];\n",
       "      var s = document.createElement('script');\n",
       "      s.src = url;\n",
       "      s.async = false;\n",
       "      s.onreadystatechange = s.onload = function() {\n",
       "        window._bokeh_is_loading--;\n",
       "        if (window._bokeh_is_loading === 0) {\n",
       "          console.log(\"Bokeh: all BokehJS libraries loaded\");\n",
       "          run_callbacks()\n",
       "        }\n",
       "      };\n",
       "      s.onerror = function() {\n",
       "        console.warn(\"failed to load library \" + url);\n",
       "      };\n",
       "      console.log(\"Bokeh: injecting script tag for BokehJS library: \", url);\n",
       "      document.getElementsByTagName(\"head\")[0].appendChild(s);\n",
       "    }\n",
       "  };var element = document.getElementById(\"7b77f374-4a3e-4e13-ac3b-12afef2ca48b\");\n",
       "  if (element == null) {\n",
       "    console.log(\"Bokeh: ERROR: autoload.js configured with elementid '7b77f374-4a3e-4e13-ac3b-12afef2ca48b' but no matching script tag was found. \")\n",
       "    return false;\n",
       "  }\n",
       "\n",
       "  var js_urls = ['https://cdn.pydata.org/bokeh/release/bokeh-0.12.2.min.js', 'https://cdn.pydata.org/bokeh/release/bokeh-widgets-0.12.2.min.js', 'https://cdn.pydata.org/bokeh/release/bokeh-compiler-0.12.2.min.js'];\n",
       "\n",
       "  var inline_js = [\n",
       "    function(Bokeh) {\n",
       "      Bokeh.set_log_level(\"info\");\n",
       "    },\n",
       "    \n",
       "    function(Bokeh) {\n",
       "      \n",
       "      Bokeh.$(\"#7b77f374-4a3e-4e13-ac3b-12afef2ca48b\").text(\"BokehJS is loading...\");\n",
       "    },\n",
       "    function(Bokeh) {\n",
       "      console.log(\"Bokeh: injecting CSS: https://cdn.pydata.org/bokeh/release/bokeh-0.12.2.min.css\");\n",
       "      Bokeh.embed.inject_css(\"https://cdn.pydata.org/bokeh/release/bokeh-0.12.2.min.css\");\n",
       "      console.log(\"Bokeh: injecting CSS: https://cdn.pydata.org/bokeh/release/bokeh-widgets-0.12.2.min.css\");\n",
       "      Bokeh.embed.inject_css(\"https://cdn.pydata.org/bokeh/release/bokeh-widgets-0.12.2.min.css\");\n",
       "    }\n",
       "  ];\n",
       "\n",
       "  function run_inline_js() {\n",
       "    \n",
       "    if ((window.Bokeh !== undefined) || (force === \"1\")) {\n",
       "      for (var i = 0; i < inline_js.length; i++) {\n",
       "        inline_js[i](window.Bokeh);\n",
       "      }if (force === \"1\") {\n",
       "        display_loaded();\n",
       "      }} else if (Date.now() < window._bokeh_timeout) {\n",
       "      setTimeout(run_inline_js, 100);\n",
       "    } else if (!window._bokeh_failed_load) {\n",
       "      console.log(\"Bokeh: BokehJS failed to load within specified timeout.\");\n",
       "      window._bokeh_failed_load = true;\n",
       "    } else if (!force) {\n",
       "      var cell = $(\"#7b77f374-4a3e-4e13-ac3b-12afef2ca48b\").parents('.cell').data().cell;\n",
       "      cell.output_area.append_execute_result(NB_LOAD_WARNING)\n",
       "    }\n",
       "\n",
       "  }\n",
       "\n",
       "  if (window._bokeh_is_loading === 0) {\n",
       "    console.log(\"Bokeh: BokehJS loaded, going straight to plotting\");\n",
       "    run_inline_js();\n",
       "  } else {\n",
       "    load_libs(js_urls, function() {\n",
       "      console.log(\"Bokeh: BokehJS plotting callback run at\", now());\n",
       "      run_inline_js();\n",
       "    });\n",
       "  }\n",
       "}(this));"
      ]
     },
     "metadata": {},
     "output_type": "display_data"
    },
    {
     "data": {
      "text/html": [
       "\n",
       "\n",
       "    <div class=\"bk-root\">\n",
       "        <div class=\"plotdiv\" id=\"629a699c-e543-410e-9171-eebd86e393e7\"></div>\n",
       "    </div>\n",
       "<script type=\"text/javascript\">\n",
       "  \n",
       "  (function(global) {\n",
       "    function now() {\n",
       "      return new Date();\n",
       "    }\n",
       "  \n",
       "    var force = \"\";\n",
       "  \n",
       "    if (typeof (window._bokeh_onload_callbacks) === \"undefined\" || force !== \"\") {\n",
       "      window._bokeh_onload_callbacks = [];\n",
       "      window._bokeh_is_loading = undefined;\n",
       "    }\n",
       "  \n",
       "  \n",
       "    \n",
       "    if (typeof (window._bokeh_timeout) === \"undefined\" || force !== \"\") {\n",
       "      window._bokeh_timeout = Date.now() + 0;\n",
       "      window._bokeh_failed_load = false;\n",
       "    }\n",
       "  \n",
       "    var NB_LOAD_WARNING = {'data': {'text/html':\n",
       "       \"<div style='background-color: #fdd'>\\n\"+\n",
       "       \"<p>\\n\"+\n",
       "       \"BokehJS does not appear to have successfully loaded. If loading BokehJS from CDN, this \\n\"+\n",
       "       \"may be due to a slow or bad network connection. Possible fixes:\\n\"+\n",
       "       \"</p>\\n\"+\n",
       "       \"<ul>\\n\"+\n",
       "       \"<li>re-rerun `output_notebook()` to attempt to load from CDN again, or</li>\\n\"+\n",
       "       \"<li>use INLINE resources instead, as so:</li>\\n\"+\n",
       "       \"</ul>\\n\"+\n",
       "       \"<code>\\n\"+\n",
       "       \"from bokeh.resources import INLINE\\n\"+\n",
       "       \"output_notebook(resources=INLINE)\\n\"+\n",
       "       \"</code>\\n\"+\n",
       "       \"</div>\"}};\n",
       "  \n",
       "    function display_loaded() {\n",
       "      if (window.Bokeh !== undefined) {\n",
       "        Bokeh.$(\"#629a699c-e543-410e-9171-eebd86e393e7\").text(\"BokehJS successfully loaded.\");\n",
       "      } else if (Date.now() < window._bokeh_timeout) {\n",
       "        setTimeout(display_loaded, 100)\n",
       "      }\n",
       "    }\n",
       "  \n",
       "    function run_callbacks() {\n",
       "      window._bokeh_onload_callbacks.forEach(function(callback) { callback() });\n",
       "      delete window._bokeh_onload_callbacks\n",
       "      console.info(\"Bokeh: all callbacks have finished\");\n",
       "    }\n",
       "  \n",
       "    function load_libs(js_urls, callback) {\n",
       "      window._bokeh_onload_callbacks.push(callback);\n",
       "      if (window._bokeh_is_loading > 0) {\n",
       "        console.log(\"Bokeh: BokehJS is being loaded, scheduling callback at\", now());\n",
       "        return null;\n",
       "      }\n",
       "      if (js_urls == null || js_urls.length === 0) {\n",
       "        run_callbacks();\n",
       "        return null;\n",
       "      }\n",
       "      console.log(\"Bokeh: BokehJS not loaded, scheduling load and callback at\", now());\n",
       "      window._bokeh_is_loading = js_urls.length;\n",
       "      for (var i = 0; i < js_urls.length; i++) {\n",
       "        var url = js_urls[i];\n",
       "        var s = document.createElement('script');\n",
       "        s.src = url;\n",
       "        s.async = false;\n",
       "        s.onreadystatechange = s.onload = function() {\n",
       "          window._bokeh_is_loading--;\n",
       "          if (window._bokeh_is_loading === 0) {\n",
       "            console.log(\"Bokeh: all BokehJS libraries loaded\");\n",
       "            run_callbacks()\n",
       "          }\n",
       "        };\n",
       "        s.onerror = function() {\n",
       "          console.warn(\"failed to load library \" + url);\n",
       "        };\n",
       "        console.log(\"Bokeh: injecting script tag for BokehJS library: \", url);\n",
       "        document.getElementsByTagName(\"head\")[0].appendChild(s);\n",
       "      }\n",
       "    };var element = document.getElementById(\"629a699c-e543-410e-9171-eebd86e393e7\");\n",
       "    if (element == null) {\n",
       "      console.log(\"Bokeh: ERROR: autoload.js configured with elementid '629a699c-e543-410e-9171-eebd86e393e7' but no matching script tag was found. \")\n",
       "      return false;\n",
       "    }\n",
       "  \n",
       "    var js_urls = [];\n",
       "  \n",
       "    var inline_js = [\n",
       "      function(Bokeh) {\n",
       "        Bokeh.$(function() {\n",
       "            var docs_json = {\"a52e9f69-63d4-42dc-af6c-2681c10e4693\":{\"roots\":{\"references\":[{\"attributes\":{\"below\":[{\"id\":\"04dcaa0d-fafa-49bf-9070-66ebb45cbcab\",\"type\":\"LogAxis\"}],\"left\":[{\"id\":\"4bac34ab-e517-4103-8e77-61fd10abd2d1\",\"type\":\"LogAxis\"}],\"plot_height\":400,\"plot_width\":400,\"renderers\":[{\"id\":\"04dcaa0d-fafa-49bf-9070-66ebb45cbcab\",\"type\":\"LogAxis\"},{\"id\":\"1a3351fa-cced-4d98-a8b4-9df5ac9af051\",\"type\":\"Grid\"},{\"id\":\"4bac34ab-e517-4103-8e77-61fd10abd2d1\",\"type\":\"LogAxis\"},{\"id\":\"1735f120-b8ca-453b-b1c1-50656ff624a0\",\"type\":\"Grid\"},{\"id\":\"46d00f92-f6a4-40d0-9662-477619065587\",\"type\":\"BoxAnnotation\"},{\"id\":\"f268c47f-897b-4ffc-be7a-de9040ef7980\",\"type\":\"BoxAnnotation\"},{\"id\":\"51f964f2-04ed-47ef-a5a3-7383bb452229\",\"type\":\"PolyAnnotation\"},{\"id\":\"ca404fe2-c197-4a43-94da-020f0cc7615a\",\"type\":\"GlyphRenderer\"}],\"title\":{\"id\":\"cbd0f6af-66d7-473d-881d-c595ae3b6a1c\",\"type\":\"Title\"},\"tool_events\":{\"id\":\"514081fc-4b1f-4a4e-a5ed-cfa629f83018\",\"type\":\"ToolEvents\"},\"toolbar\":{\"id\":\"04371649-45b5-4c17-b3d7-fe90b834fe65\",\"type\":\"Toolbar\"},\"toolbar_location\":null,\"x_mapper_type\":\"log\",\"x_range\":{\"id\":\"251e08ad-a243-417a-b1bd-a532cd280c42\",\"type\":\"Range1d\"},\"y_mapper_type\":\"log\",\"y_range\":{\"id\":\"feb37660-303f-4574-bf0d-daeae1058e33\",\"type\":\"DataRange1d\"}},\"id\":\"f644b12e-261c-48d6-8a56-3138597c2cc3\",\"subtype\":\"Figure\",\"type\":\"Plot\"},{\"attributes\":{\"plot\":{\"id\":\"a8d05146-2c4c-43ea-97c9-c19c907ceb4d\",\"subtype\":\"Figure\",\"type\":\"Plot\"}},\"id\":\"2ba0f5f8-d8ed-4eb2-9987-a48961677947\",\"type\":\"CrosshairTool\"},{\"attributes\":{\"fill_alpha\":{\"value\":0.6},\"fill_color\":{\"field\":\"fill_color\"},\"line_alpha\":{\"value\":0.6},\"line_color\":{\"field\":\"line_color\"},\"size\":{\"field\":\"size\",\"units\":\"screen\"},\"x\":{\"field\":\"x\"},\"y\":{\"field\":\"y1\"}},\"id\":\"6e95ff85-fd40-4659-b1c9-3b1d587e1a8d\",\"type\":\"Circle\"},{\"attributes\":{\"callback\":null,\"overlay\":{\"id\":\"9927c339-1285-46f5-8d97-83b8dade021b\",\"type\":\"PolyAnnotation\"},\"plot\":{\"id\":\"a8d05146-2c4c-43ea-97c9-c19c907ceb4d\",\"subtype\":\"Figure\",\"type\":\"Plot\"}},\"id\":\"75bef6ef-d847-4908-95c3-53ca4add8f4b\",\"type\":\"LassoSelectTool\"},{\"attributes\":{},\"id\":\"514081fc-4b1f-4a4e-a5ed-cfa629f83018\",\"type\":\"ToolEvents\"},{\"attributes\":{\"plot\":null,\"text\":null},\"id\":\"cbd0f6af-66d7-473d-881d-c595ae3b6a1c\",\"type\":\"Title\"},{\"attributes\":{\"plot\":{\"id\":\"f644b12e-261c-48d6-8a56-3138597c2cc3\",\"subtype\":\"Figure\",\"type\":\"Plot\"}},\"id\":\"2d560ba8-d8a5-4247-97a4-3c5766444fdc\",\"type\":\"ResetTool\"},{\"attributes\":{\"bottom_units\":\"screen\",\"fill_alpha\":{\"value\":0.5},\"fill_color\":{\"value\":\"lightgrey\"},\"left_units\":\"screen\",\"level\":\"overlay\",\"line_alpha\":{\"value\":1.0},\"line_color\":{\"value\":\"black\"},\"line_dash\":[4,4],\"line_width\":{\"value\":2},\"plot\":null,\"render_mode\":\"css\",\"right_units\":\"screen\",\"top_units\":\"screen\"},\"id\":\"f268c47f-897b-4ffc-be7a-de9040ef7980\",\"type\":\"BoxAnnotation\"},{\"attributes\":{\"num_minor_ticks\":10},\"id\":\"cb2bb5b5-470f-4087-980d-003499e06f8d\",\"type\":\"LogTicker\"},{\"attributes\":{\"plot\":{\"id\":\"a8d05146-2c4c-43ea-97c9-c19c907ceb4d\",\"subtype\":\"Figure\",\"type\":\"Plot\"}},\"id\":\"51210db3-d6e1-4b11-b6fa-ad32b71a819a\",\"type\":\"PanTool\"},{\"attributes\":{\"fill_alpha\":{\"value\":0.5},\"fill_color\":{\"value\":\"lightgrey\"},\"level\":\"overlay\",\"line_alpha\":{\"value\":1.0},\"line_color\":{\"value\":\"black\"},\"line_dash\":[4,4],\"line_width\":{\"value\":2},\"plot\":null,\"xs_units\":\"screen\",\"ys_units\":\"screen\"},\"id\":\"51f964f2-04ed-47ef-a5a3-7383bb452229\",\"type\":\"PolyAnnotation\"},{\"attributes\":{\"ticker\":null},\"id\":\"61340e99-ce7a-4b2a-900c-b0e384b8960e\",\"type\":\"LogTickFormatter\"},{\"attributes\":{\"data_source\":{\"id\":\"60f41616-3681-4774-ba32-f17fa0b5a26e\",\"type\":\"ColumnDataSource\"},\"glyph\":{\"id\":\"b6935154-4be2-4063-bf81-7986b14ffa88\",\"type\":\"Circle\"},\"hover_glyph\":null,\"nonselection_glyph\":{\"id\":\"e6a3bd91-18dc-46dd-99a1-855c69f87f01\",\"type\":\"Circle\"},\"selection_glyph\":null},\"id\":\"ca404fe2-c197-4a43-94da-020f0cc7615a\",\"type\":\"GlyphRenderer\"},{\"attributes\":{\"callback\":null,\"overlay\":{\"id\":\"f268c47f-897b-4ffc-be7a-de9040ef7980\",\"type\":\"BoxAnnotation\"},\"plot\":{\"id\":\"f644b12e-261c-48d6-8a56-3138597c2cc3\",\"subtype\":\"Figure\",\"type\":\"Plot\"},\"renderers\":[{\"id\":\"ca404fe2-c197-4a43-94da-020f0cc7615a\",\"type\":\"GlyphRenderer\"}]},\"id\":\"6657aff6-785a-4d41-a465-e8bb86393dc9\",\"type\":\"BoxSelectTool\"},{\"attributes\":{\"children\":[{\"id\":\"a8d05146-2c4c-43ea-97c9-c19c907ceb4d\",\"subtype\":\"Figure\",\"type\":\"Plot\"},{\"id\":\"f644b12e-261c-48d6-8a56-3138597c2cc3\",\"subtype\":\"Figure\",\"type\":\"Plot\"}]},\"id\":\"6277d2c6-e130-4f15-8a46-a0243c210150\",\"type\":\"Row\"},{\"attributes\":{\"callback\":null,\"overlay\":{\"id\":\"ac7787ad-d7da-4746-9b1d-01cb97b04493\",\"type\":\"BoxAnnotation\"},\"plot\":{\"id\":\"a8d05146-2c4c-43ea-97c9-c19c907ceb4d\",\"subtype\":\"Figure\",\"type\":\"Plot\"},\"renderers\":[{\"id\":\"fd518597-5016-4994-8d78-385060ffd9d9\",\"type\":\"GlyphRenderer\"}]},\"id\":\"b327c0e7-e6d7-427d-95e6-a6f8031e253b\",\"type\":\"BoxSelectTool\"},{\"attributes\":{\"children\":[{\"id\":\"6f8029f4-1383-4cc6-a8f2-6db0463d4bff\",\"type\":\"Column\"},{\"id\":\"160e51c4-5a40-4eb0-8fcf-234b080204fb\",\"type\":\"ToolbarBox\"}]},\"id\":\"be01950b-37a3-436a-bb10-a5f833a7f365\",\"type\":\"Row\"},{\"attributes\":{\"sizing_mode\":\"scale_width\",\"tools\":[{\"id\":\"51210db3-d6e1-4b11-b6fa-ad32b71a819a\",\"type\":\"PanTool\"},{\"id\":\"f1a225be-584b-4254-90c9-e2c9cc1204c4\",\"type\":\"BoxZoomTool\"},{\"id\":\"e394550b-c305-447f-aac4-07fad273f0e8\",\"type\":\"WheelZoomTool\"},{\"id\":\"b327c0e7-e6d7-427d-95e6-a6f8031e253b\",\"type\":\"BoxSelectTool\"},{\"id\":\"75bef6ef-d847-4908-95c3-53ca4add8f4b\",\"type\":\"LassoSelectTool\"},{\"id\":\"2ba0f5f8-d8ed-4eb2-9987-a48961677947\",\"type\":\"CrosshairTool\"},{\"id\":\"56d7add3-8f94-4298-8dca-3d7f056e45f1\",\"type\":\"ResetTool\"},{\"id\":\"2a11fbcc-39fe-4e95-8ac1-128de0695876\",\"type\":\"SaveTool\"},{\"id\":\"08088e81-e353-4c23-be3f-40ee640477fe\",\"type\":\"PanTool\"},{\"id\":\"6b99e2d1-7a9f-4531-b8db-ad6300b40149\",\"type\":\"BoxZoomTool\"},{\"id\":\"4edd9582-6b82-4b23-a938-6310e53ace99\",\"type\":\"WheelZoomTool\"},{\"id\":\"6657aff6-785a-4d41-a465-e8bb86393dc9\",\"type\":\"BoxSelectTool\"},{\"id\":\"ca811b67-cbf0-4edf-992a-14666f6e57e7\",\"type\":\"LassoSelectTool\"},{\"id\":\"c3bef5ab-494c-4b4b-a560-3786e3083473\",\"type\":\"CrosshairTool\"},{\"id\":\"2d560ba8-d8a5-4247-97a4-3c5766444fdc\",\"type\":\"ResetTool\"},{\"id\":\"4af1020a-85b3-442f-8f7a-7cf023f2d354\",\"type\":\"SaveTool\"}]},\"id\":\"160e51c4-5a40-4eb0-8fcf-234b080204fb\",\"type\":\"ToolbarBox\"},{\"attributes\":{\"plot\":{\"id\":\"f644b12e-261c-48d6-8a56-3138597c2cc3\",\"subtype\":\"Figure\",\"type\":\"Plot\"}},\"id\":\"c3bef5ab-494c-4b4b-a560-3786e3083473\",\"type\":\"CrosshairTool\"},{\"attributes\":{\"active_drag\":\"auto\",\"active_scroll\":\"auto\",\"active_tap\":\"auto\",\"tools\":[{\"id\":\"51210db3-d6e1-4b11-b6fa-ad32b71a819a\",\"type\":\"PanTool\"},{\"id\":\"f1a225be-584b-4254-90c9-e2c9cc1204c4\",\"type\":\"BoxZoomTool\"},{\"id\":\"e394550b-c305-447f-aac4-07fad273f0e8\",\"type\":\"WheelZoomTool\"},{\"id\":\"b327c0e7-e6d7-427d-95e6-a6f8031e253b\",\"type\":\"BoxSelectTool\"},{\"id\":\"75bef6ef-d847-4908-95c3-53ca4add8f4b\",\"type\":\"LassoSelectTool\"},{\"id\":\"2ba0f5f8-d8ed-4eb2-9987-a48961677947\",\"type\":\"CrosshairTool\"},{\"id\":\"56d7add3-8f94-4298-8dca-3d7f056e45f1\",\"type\":\"ResetTool\"},{\"id\":\"2a11fbcc-39fe-4e95-8ac1-128de0695876\",\"type\":\"SaveTool\"}]},\"id\":\"f10db339-c307-4348-887f-91f92e83265a\",\"type\":\"Toolbar\"},{\"attributes\":{\"plot\":{\"id\":\"a8d05146-2c4c-43ea-97c9-c19c907ceb4d\",\"subtype\":\"Figure\",\"type\":\"Plot\"}},\"id\":\"2a11fbcc-39fe-4e95-8ac1-128de0695876\",\"type\":\"SaveTool\"},{\"attributes\":{\"ticker\":null},\"id\":\"4634f5d2-c80f-473e-af7c-1a88aceda070\",\"type\":\"LogTickFormatter\"},{\"attributes\":{\"axis_label\":\"PAY2\",\"formatter\":{\"id\":\"4634f5d2-c80f-473e-af7c-1a88aceda070\",\"type\":\"LogTickFormatter\"},\"plot\":{\"id\":\"f644b12e-261c-48d6-8a56-3138597c2cc3\",\"subtype\":\"Figure\",\"type\":\"Plot\"},\"ticker\":{\"id\":\"600a726b-2c34-4686-a8d7-c15c0d495b85\",\"type\":\"LogTicker\"}},\"id\":\"4bac34ab-e517-4103-8e77-61fd10abd2d1\",\"type\":\"LogAxis\"},{\"attributes\":{\"dimension\":1,\"plot\":{\"id\":\"f644b12e-261c-48d6-8a56-3138597c2cc3\",\"subtype\":\"Figure\",\"type\":\"Plot\"},\"ticker\":{\"id\":\"600a726b-2c34-4686-a8d7-c15c0d495b85\",\"type\":\"LogTicker\"}},\"id\":\"1735f120-b8ca-453b-b1c1-50656ff624a0\",\"type\":\"Grid\"},{\"attributes\":{\"dimension\":1,\"plot\":{\"id\":\"a8d05146-2c4c-43ea-97c9-c19c907ceb4d\",\"subtype\":\"Figure\",\"type\":\"Plot\"},\"ticker\":{\"id\":\"f78d0a0d-dcbf-4dbc-90a0-60a9ccb5306b\",\"type\":\"LogTicker\"}},\"id\":\"7d9af504-d0cc-4ea3-b903-0289d3bb50c6\",\"type\":\"Grid\"},{\"attributes\":{\"active_drag\":\"auto\",\"active_scroll\":\"auto\",\"active_tap\":\"auto\",\"tools\":[{\"id\":\"08088e81-e353-4c23-be3f-40ee640477fe\",\"type\":\"PanTool\"},{\"id\":\"6b99e2d1-7a9f-4531-b8db-ad6300b40149\",\"type\":\"BoxZoomTool\"},{\"id\":\"4edd9582-6b82-4b23-a938-6310e53ace99\",\"type\":\"WheelZoomTool\"},{\"id\":\"6657aff6-785a-4d41-a465-e8bb86393dc9\",\"type\":\"BoxSelectTool\"},{\"id\":\"ca811b67-cbf0-4edf-992a-14666f6e57e7\",\"type\":\"LassoSelectTool\"},{\"id\":\"c3bef5ab-494c-4b4b-a560-3786e3083473\",\"type\":\"CrosshairTool\"},{\"id\":\"2d560ba8-d8a5-4247-97a4-3c5766444fdc\",\"type\":\"ResetTool\"},{\"id\":\"4af1020a-85b3-442f-8f7a-7cf023f2d354\",\"type\":\"SaveTool\"}]},\"id\":\"04371649-45b5-4c17-b3d7-fe90b834fe65\",\"type\":\"Toolbar\"},{\"attributes\":{\"num_minor_ticks\":10},\"id\":\"f78d0a0d-dcbf-4dbc-90a0-60a9ccb5306b\",\"type\":\"LogTicker\"},{\"attributes\":{\"plot\":{\"id\":\"f644b12e-261c-48d6-8a56-3138597c2cc3\",\"subtype\":\"Figure\",\"type\":\"Plot\"}},\"id\":\"4af1020a-85b3-442f-8f7a-7cf023f2d354\",\"type\":\"SaveTool\"},{\"attributes\":{\"bottom_units\":\"screen\",\"fill_alpha\":{\"value\":0.5},\"fill_color\":{\"value\":\"lightgrey\"},\"left_units\":\"screen\",\"level\":\"overlay\",\"line_alpha\":{\"value\":1.0},\"line_color\":{\"value\":\"black\"},\"line_dash\":[4,4],\"line_width\":{\"value\":2},\"plot\":null,\"render_mode\":\"css\",\"right_units\":\"screen\",\"top_units\":\"screen\"},\"id\":\"4562a8b5-7134-42c0-a830-ce8c3d1b0db3\",\"type\":\"BoxAnnotation\"},{\"attributes\":{\"callback\":null,\"column_names\":[\"y2\",\"y1\",\"x\",\"size\",\"fill_color\",\"line_color\",\"size\",\"fill_color\",\"line_color\"],\"data\":{\"fill_color\":[\"#960000\",\"#960000\",\"#009600\",\"#009600\",\"#009600\",\"#009600\",\"#009600\",\"#009600\",\"#009600\",\"#009600\",\"#009600\",\"#009600\",\"#009600\",\"#960000\",\"#009600\",\"#009600\",\"#960000\",\"#009600\",\"#009600\",\"#009600\",\"#009600\",\"#960000\",\"#960000\",\"#960000\",\"#009600\",\"#009600\",\"#960000\",\"#009600\",\"#009600\",\"#009600\",\"#009600\",\"#960000\",\"#009600\",\"#009600\",\"#009600\",\"#009600\",\"#009600\",\"#009600\",\"#960000\",\"#009600\",\"#009600\",\"#009600\",\"#009600\",\"#009600\",\"#009600\",\"#960000\",\"#960000\",\"#960000\",\"#009600\",\"#009600\",\"#960000\",\"#009600\",\"#009600\",\"#009600\",\"#009600\",\"#009600\",\"#009600\",\"#009600\",\"#009600\",\"#009600\",\"#960000\",\"#009600\",\"#960000\",\"#960000\",\"#009600\",\"#960000\",\"#960000\",\"#009600\",\"#009600\",\"#009600\",\"#009600\",\"#960000\",\"#009600\",\"#009600\",\"#009600\",\"#009600\",\"#009600\",\"#009600\",\"#960000\",\"#960000\",\"#009600\",\"#009600\",\"#960000\",\"#009600\",\"#009600\",\"#009600\",\"#960000\",\"#009600\",\"#009600\",\"#009600\",\"#960000\",\"#009600\",\"#009600\",\"#009600\",\"#009600\",\"#009600\",\"#009600\",\"#009600\",\"#009600\",\"#960000\",\"#009600\",\"#009600\",\"#009600\",\"#960000\",\"#009600\",\"#009600\",\"#009600\",\"#009600\",\"#009600\",\"#009600\",\"#009600\",\"#009600\",\"#009600\",\"#009600\",\"#009600\",\"#960000\",\"#009600\",\"#960000\",\"#009600\",\"#009600\",\"#960000\",\"#960000\",\"#009600\",\"#960000\",\"#009600\",\"#009600\",\"#009600\",\"#960000\",\"#960000\",\"#009600\",\"#009600\",\"#009600\",\"#009600\",\"#009600\",\"#009600\",\"#009600\",\"#009600\",\"#009600\",\"#960000\",\"#009600\",\"#960000\",\"#009600\",\"#009600\",\"#009600\",\"#009600\",\"#009600\",\"#960000\",\"#009600\",\"#009600\",\"#009600\",\"#009600\",\"#009600\",\"#009600\",\"#009600\",\"#009600\",\"#009600\",\"#009600\",\"#009600\",\"#960000\",\"#009600\",\"#009600\",\"#009600\",\"#009600\",\"#009600\",\"#009600\",\"#009600\",\"#009600\",\"#009600\",\"#009600\",\"#009600\",\"#009600\",\"#009600\",\"#009600\",\"#960000\",\"#009600\",\"#960000\",\"#009600\",\"#009600\",\"#009600\",\"#009600\",\"#009600\",\"#009600\",\"#009600\",\"#960000\",\"#009600\",\"#960000\",\"#009600\",\"#960000\",\"#009600\",\"#009600\",\"#009600\",\"#960000\",\"#009600\",\"#009600\",\"#009600\",\"#960000\",\"#009600\",\"#009600\",\"#009600\",\"#960000\",\"#009600\",\"#009600\",\"#009600\",\"#009600\",\"#009600\",\"#009600\",\"#009600\",\"#960000\",\"#960000\",\"#009600\",\"#009600\",\"#960000\",\"#009600\",\"#009600\",\"#009600\",\"#009600\",\"#960000\",\"#009600\",\"#009600\",\"#960000\",\"#009600\",\"#009600\",\"#009600\",\"#960000\",\"#009600\",\"#009600\",\"#009600\",\"#960000\",\"#009600\",\"#009600\",\"#960000\",\"#009600\",\"#960000\",\"#009600\",\"#009600\",\"#009600\",\"#009600\",\"#960000\",\"#960000\",\"#009600\",\"#009600\",\"#009600\",\"#009600\",\"#009600\",\"#009600\",\"#009600\",\"#009600\",\"#009600\",\"#009600\",\"#009600\",\"#009600\",\"#960000\",\"#009600\",\"#009600\",\"#009600\",\"#009600\",\"#009600\",\"#009600\",\"#960000\",\"#009600\",\"#009600\",\"#009600\",\"#009600\",\"#009600\",\"#009600\",\"#009600\",\"#960000\",\"#009600\",\"#960000\",\"#009600\",\"#009600\",\"#960000\",\"#009600\",\"#960000\",\"#009600\",\"#960000\",\"#009600\",\"#009600\",\"#009600\",\"#009600\",\"#009600\",\"#009600\",\"#009600\",\"#009600\",\"#009600\",\"#009600\",\"#009600\",\"#960000\",\"#009600\",\"#960000\",\"#960000\",\"#009600\",\"#960000\",\"#009600\",\"#009600\",\"#009600\",\"#009600\",\"#009600\",\"#960000\",\"#009600\",\"#009600\",\"#009600\",\"#960000\",\"#009600\",\"#009600\",\"#009600\",\"#009600\",\"#960000\",\"#009600\",\"#009600\",\"#009600\",\"#009600\",\"#960000\",\"#009600\",\"#960000\",\"#009600\",\"#009600\",\"#009600\",\"#009600\",\"#960000\",\"#009600\",\"#009600\",\"#960000\",\"#009600\",\"#009600\",\"#960000\",\"#960000\",\"#009600\",\"#009600\",\"#960000\",\"#960000\",\"#009600\",\"#009600\",\"#009600\",\"#009600\",\"#009600\",\"#009600\",\"#960000\",\"#009600\",\"#009600\",\"#009600\",\"#009600\",\"#009600\",\"#009600\",\"#009600\",\"#009600\",\"#960000\",\"#009600\",\"#960000\",\"#009600\",\"#009600\",\"#960000\",\"#009600\",\"#009600\",\"#960000\",\"#009600\",\"#009600\",\"#009600\",\"#009600\",\"#960000\",\"#009600\",\"#009600\",\"#960000\",\"#009600\",\"#009600\",\"#009600\",\"#009600\",\"#009600\",\"#960000\",\"#960000\",\"#009600\",\"#009600\",\"#009600\",\"#009600\",\"#009600\",\"#009600\",\"#009600\",\"#009600\",\"#960000\",\"#009600\",\"#960000\",\"#009600\",\"#960000\",\"#009600\",\"#009600\",\"#009600\",\"#960000\",\"#009600\",\"#960000\",\"#009600\",\"#960000\",\"#009600\",\"#009600\",\"#009600\",\"#009600\",\"#009600\",\"#009600\",\"#009600\",\"#009600\",\"#009600\",\"#009600\",\"#960000\",\"#009600\",\"#960000\",\"#009600\",\"#009600\",\"#009600\",\"#009600\",\"#009600\",\"#960000\",\"#009600\",\"#009600\",\"#960000\",\"#009600\",\"#009600\",\"#009600\",\"#009600\",\"#009600\",\"#960000\",\"#009600\",\"#009600\",\"#009600\",\"#960000\",\"#009600\",\"#009600\",\"#960000\",\"#960000\",\"#009600\",\"#009600\",\"#009600\",\"#960000\",\"#009600\",\"#009600\",\"#009600\",\"#960000\",\"#009600\",\"#009600\",\"#009600\",\"#960000\",\"#009600\",\"#009600\",\"#009600\",\"#009600\",\"#960000\",\"#009600\",\"#009600\",\"#009600\",\"#009600\",\"#009600\",\"#960000\",\"#960000\",\"#009600\",\"#009600\",\"#009600\",\"#009600\",\"#009600\",\"#009600\",\"#009600\",\"#960000\",\"#009600\",\"#009600\",\"#009600\",\"#009600\",\"#009600\",\"#960000\",\"#960000\",\"#009600\",\"#009600\",\"#009600\",\"#960000\",\"#009600\",\"#009600\",\"#009600\",\"#009600\",\"#009600\",\"#009600\",\"#009600\",\"#009600\",\"#009600\",\"#009600\",\"#960000\",\"#009600\",\"#009600\",\"#009600\",\"#009600\",\"#009600\",\"#009600\",\"#960000\",\"#009600\",\"#009600\",\"#009600\",\"#009600\",\"#009600\",\"#960000\",\"#009600\",\"#009600\",\"#009600\",\"#009600\",\"#009600\",\"#009600\",\"#009600\",\"#009600\",\"#960000\",\"#009600\",\"#009600\",\"#009600\",\"#009600\",\"#009600\",\"#009600\",\"#009600\",\"#960000\",\"#009600\",\"#960000\",\"#009600\",\"#009600\",\"#009600\",\"#009600\",\"#009600\",\"#009600\",\"#009600\",\"#009600\",\"#960000\",\"#960000\",\"#009600\",\"#009600\",\"#009600\",\"#960000\",\"#009600\",\"#009600\",\"#009600\",\"#009600\",\"#960000\",\"#960000\",\"#009600\",\"#009600\",\"#009600\",\"#009600\",\"#009600\",\"#009600\",\"#009600\",\"#009600\",\"#960000\",\"#009600\",\"#009600\",\"#009600\",\"#960000\",\"#009600\",\"#009600\",\"#009600\",\"#960000\",\"#960000\",\"#960000\",\"#009600\",\"#009600\",\"#009600\",\"#009600\",\"#009600\",\"#009600\",\"#009600\",\"#009600\",\"#009600\",\"#009600\",\"#009600\",\"#009600\",\"#009600\",\"#960000\",\"#009600\",\"#009600\",\"#009600\",\"#009600\",\"#009600\",\"#009600\",\"#960000\",\"#009600\",\"#960000\",\"#009600\",\"#009600\",\"#009600\",\"#009600\",\"#960000\",\"#009600\",\"#009600\",\"#009600\",\"#009600\",\"#009600\",\"#960000\",\"#960000\",\"#009600\",\"#009600\",\"#009600\",\"#009600\",\"#009600\",\"#009600\",\"#009600\",\"#009600\",\"#009600\",\"#009600\",\"#009600\",\"#960000\",\"#009600\",\"#960000\",\"#009600\",\"#009600\",\"#009600\",\"#009600\",\"#009600\",\"#009600\",\"#009600\",\"#009600\",\"#009600\",\"#960000\",\"#009600\",\"#009600\",\"#009600\",\"#009600\",\"#009600\",\"#009600\",\"#009600\",\"#009600\",\"#009600\",\"#009600\",\"#009600\",\"#009600\",\"#009600\",\"#009600\",\"#009600\",\"#009600\",\"#009600\",\"#009600\",\"#009600\",\"#009600\",\"#009600\",\"#009600\",\"#009600\",\"#009600\",\"#009600\",\"#009600\",\"#009600\",\"#009600\",\"#009600\",\"#009600\",\"#009600\",\"#009600\",\"#009600\",\"#009600\",\"#960000\",\"#009600\",\"#960000\",\"#009600\",\"#009600\",\"#009600\",\"#009600\",\"#960000\",\"#009600\",\"#960000\",\"#009600\",\"#960000\",\"#009600\",\"#009600\",\"#009600\",\"#960000\",\"#009600\",\"#009600\",\"#009600\",\"#009600\",\"#009600\",\"#009600\",\"#009600\",\"#960000\",\"#009600\",\"#960000\",\"#960000\",\"#960000\",\"#009600\",\"#960000\",\"#960000\",\"#009600\",\"#009600\",\"#009600\",\"#009600\",\"#009600\",\"#009600\",\"#009600\",\"#009600\",\"#009600\",\"#960000\",\"#009600\",\"#009600\",\"#009600\",\"#009600\",\"#009600\",\"#960000\",\"#009600\",\"#009600\",\"#009600\",\"#009600\",\"#009600\",\"#009600\",\"#009600\",\"#009600\",\"#009600\",\"#960000\",\"#960000\",\"#009600\",\"#960000\",\"#009600\",\"#009600\",\"#009600\",\"#009600\",\"#009600\",\"#009600\",\"#009600\",\"#009600\",\"#009600\",\"#009600\",\"#009600\",\"#960000\",\"#009600\",\"#009600\",\"#009600\",\"#960000\",\"#009600\",\"#009600\",\"#009600\",\"#960000\",\"#009600\",\"#009600\",\"#009600\",\"#960000\",\"#009600\",\"#009600\",\"#009600\",\"#009600\",\"#009600\",\"#009600\",\"#009600\",\"#009600\",\"#009600\",\"#960000\",\"#009600\",\"#009600\",\"#009600\",\"#009600\",\"#009600\",\"#009600\",\"#009600\",\"#960000\",\"#960000\",\"#960000\",\"#009600\",\"#009600\",\"#960000\",\"#009600\",\"#009600\",\"#009600\",\"#009600\",\"#960000\",\"#009600\",\"#009600\",\"#960000\",\"#009600\",\"#009600\",\"#009600\",\"#009600\",\"#009600\",\"#009600\",\"#009600\",\"#009600\",\"#009600\",\"#009600\",\"#009600\",\"#009600\",\"#009600\",\"#009600\",\"#009600\",\"#009600\",\"#009600\",\"#960000\",\"#009600\",\"#009600\",\"#009600\",\"#960000\",\"#960000\",\"#960000\",\"#009600\",\"#009600\",\"#009600\",\"#009600\",\"#009600\",\"#009600\",\"#009600\",\"#009600\",\"#009600\",\"#009600\",\"#009600\",\"#009600\",\"#009600\",\"#009600\",\"#009600\",\"#009600\",\"#960000\",\"#009600\",\"#009600\",\"#009600\",\"#009600\",\"#009600\",\"#960000\",\"#009600\",\"#009600\",\"#009600\",\"#009600\",\"#009600\",\"#960000\",\"#009600\",\"#960000\",\"#009600\",\"#009600\",\"#009600\",\"#960000\",\"#009600\",\"#009600\",\"#960000\",\"#009600\",\"#009600\",\"#009600\",\"#009600\",\"#009600\",\"#009600\",\"#009600\",\"#960000\",\"#009600\",\"#009600\",\"#960000\",\"#009600\",\"#009600\",\"#009600\",\"#960000\",\"#009600\",\"#009600\",\"#009600\",\"#960000\",\"#009600\",\"#009600\",\"#009600\",\"#960000\",\"#960000\",\"#009600\",\"#009600\",\"#009600\",\"#009600\",\"#009600\",\"#009600\",\"#009600\",\"#960000\",\"#960000\",\"#009600\",\"#009600\",\"#009600\",\"#009600\",\"#960000\",\"#009600\",\"#009600\",\"#009600\",\"#009600\",\"#009600\",\"#009600\",\"#009600\",\"#009600\",\"#009600\",\"#009600\",\"#009600\",\"#009600\",\"#009600\",\"#009600\",\"#009600\",\"#009600\",\"#009600\",\"#009600\",\"#960000\",\"#009600\",\"#009600\",\"#960000\",\"#009600\",\"#009600\",\"#009600\",\"#009600\",\"#009600\",\"#009600\",\"#009600\",\"#009600\",\"#009600\",\"#960000\",\"#009600\",\"#960000\",\"#960000\",\"#960000\",\"#009600\",\"#009600\",\"#009600\",\"#009600\",\"#009600\",\"#009600\",\"#009600\",\"#960000\",\"#009600\",\"#009600\",\"#009600\",\"#009600\",\"#009600\",\"#009600\",\"#009600\",\"#009600\",\"#009600\",\"#009600\",\"#960000\",\"#009600\",\"#009600\",\"#009600\",\"#009600\",\"#009600\",\"#009600\",\"#009600\",\"#960000\",\"#009600\",\"#009600\",\"#009600\",\"#009600\",\"#009600\",\"#960000\",\"#960000\",\"#960000\",\"#009600\",\"#009600\",\"#009600\",\"#009600\",\"#960000\",\"#009600\",\"#009600\",\"#009600\",\"#009600\",\"#960000\",\"#009600\",\"#009600\",\"#009600\",\"#009600\",\"#009600\",\"#009600\",\"#960000\",\"#009600\",\"#009600\",\"#009600\",\"#009600\",\"#009600\",\"#009600\",\"#960000\",\"#009600\",\"#960000\",\"#960000\",\"#009600\",\"#009600\",\"#009600\",\"#009600\",\"#009600\",\"#009600\",\"#009600\",\"#009600\",\"#009600\",\"#960000\",\"#009600\",\"#960000\",\"#009600\",\"#960000\",\"#009600\",\"#960000\",\"#009600\",\"#960000\",\"#009600\",\"#009600\",\"#009600\",\"#960000\",\"#009600\",\"#009600\",\"#960000\",\"#009600\",\"#009600\",\"#009600\",\"#009600\",\"#009600\",\"#960000\",\"#009600\",\"#960000\",\"#960000\",\"#009600\",\"#009600\",\"#960000\",\"#960000\",\"#009600\",\"#009600\",\"#009600\",\"#009600\"],\"line_color\":[\"#960000\",\"#960000\",\"#009600\",\"#009600\",\"#009600\",\"#009600\",\"#009600\",\"#009600\",\"#009600\",\"#009600\",\"#009600\",\"#009600\",\"#009600\",\"#960000\",\"#009600\",\"#009600\",\"#960000\",\"#009600\",\"#009600\",\"#009600\",\"#009600\",\"#960000\",\"#960000\",\"#960000\",\"#009600\",\"#009600\",\"#960000\",\"#009600\",\"#009600\",\"#009600\",\"#009600\",\"#960000\",\"#009600\",\"#009600\",\"#009600\",\"#009600\",\"#009600\",\"#009600\",\"#960000\",\"#009600\",\"#009600\",\"#009600\",\"#009600\",\"#009600\",\"#009600\",\"#960000\",\"#960000\",\"#960000\",\"#009600\",\"#009600\",\"#960000\",\"#009600\",\"#009600\",\"#009600\",\"#009600\",\"#009600\",\"#009600\",\"#009600\",\"#009600\",\"#009600\",\"#960000\",\"#009600\",\"#960000\",\"#960000\",\"#009600\",\"#960000\",\"#960000\",\"#009600\",\"#009600\",\"#009600\",\"#009600\",\"#960000\",\"#009600\",\"#009600\",\"#009600\",\"#009600\",\"#009600\",\"#009600\",\"#960000\",\"#960000\",\"#009600\",\"#009600\",\"#960000\",\"#009600\",\"#009600\",\"#009600\",\"#960000\",\"#009600\",\"#009600\",\"#009600\",\"#960000\",\"#009600\",\"#009600\",\"#009600\",\"#009600\",\"#009600\",\"#009600\",\"#009600\",\"#009600\",\"#960000\",\"#009600\",\"#009600\",\"#009600\",\"#960000\",\"#009600\",\"#009600\",\"#009600\",\"#009600\",\"#009600\",\"#009600\",\"#009600\",\"#009600\",\"#009600\",\"#009600\",\"#009600\",\"#960000\",\"#009600\",\"#960000\",\"#009600\",\"#009600\",\"#960000\",\"#960000\",\"#009600\",\"#960000\",\"#009600\",\"#009600\",\"#009600\",\"#960000\",\"#960000\",\"#009600\",\"#009600\",\"#009600\",\"#009600\",\"#009600\",\"#009600\",\"#009600\",\"#009600\",\"#009600\",\"#960000\",\"#009600\",\"#960000\",\"#009600\",\"#009600\",\"#009600\",\"#009600\",\"#009600\",\"#960000\",\"#009600\",\"#009600\",\"#009600\",\"#009600\",\"#009600\",\"#009600\",\"#009600\",\"#009600\",\"#009600\",\"#009600\",\"#009600\",\"#960000\",\"#009600\",\"#009600\",\"#009600\",\"#009600\",\"#009600\",\"#009600\",\"#009600\",\"#009600\",\"#009600\",\"#009600\",\"#009600\",\"#009600\",\"#009600\",\"#009600\",\"#960000\",\"#009600\",\"#960000\",\"#009600\",\"#009600\",\"#009600\",\"#009600\",\"#009600\",\"#009600\",\"#009600\",\"#960000\",\"#009600\",\"#960000\",\"#009600\",\"#960000\",\"#009600\",\"#009600\",\"#009600\",\"#960000\",\"#009600\",\"#009600\",\"#009600\",\"#960000\",\"#009600\",\"#009600\",\"#009600\",\"#960000\",\"#009600\",\"#009600\",\"#009600\",\"#009600\",\"#009600\",\"#009600\",\"#009600\",\"#960000\",\"#960000\",\"#009600\",\"#009600\",\"#960000\",\"#009600\",\"#009600\",\"#009600\",\"#009600\",\"#960000\",\"#009600\",\"#009600\",\"#960000\",\"#009600\",\"#009600\",\"#009600\",\"#960000\",\"#009600\",\"#009600\",\"#009600\",\"#960000\",\"#009600\",\"#009600\",\"#960000\",\"#009600\",\"#960000\",\"#009600\",\"#009600\",\"#009600\",\"#009600\",\"#960000\",\"#960000\",\"#009600\",\"#009600\",\"#009600\",\"#009600\",\"#009600\",\"#009600\",\"#009600\",\"#009600\",\"#009600\",\"#009600\",\"#009600\",\"#009600\",\"#960000\",\"#009600\",\"#009600\",\"#009600\",\"#009600\",\"#009600\",\"#009600\",\"#960000\",\"#009600\",\"#009600\",\"#009600\",\"#009600\",\"#009600\",\"#009600\",\"#009600\",\"#960000\",\"#009600\",\"#960000\",\"#009600\",\"#009600\",\"#960000\",\"#009600\",\"#960000\",\"#009600\",\"#960000\",\"#009600\",\"#009600\",\"#009600\",\"#009600\",\"#009600\",\"#009600\",\"#009600\",\"#009600\",\"#009600\",\"#009600\",\"#009600\",\"#960000\",\"#009600\",\"#960000\",\"#960000\",\"#009600\",\"#960000\",\"#009600\",\"#009600\",\"#009600\",\"#009600\",\"#009600\",\"#960000\",\"#009600\",\"#009600\",\"#009600\",\"#960000\",\"#009600\",\"#009600\",\"#009600\",\"#009600\",\"#960000\",\"#009600\",\"#009600\",\"#009600\",\"#009600\",\"#960000\",\"#009600\",\"#960000\",\"#009600\",\"#009600\",\"#009600\",\"#009600\",\"#960000\",\"#009600\",\"#009600\",\"#960000\",\"#009600\",\"#009600\",\"#960000\",\"#960000\",\"#009600\",\"#009600\",\"#960000\",\"#960000\",\"#009600\",\"#009600\",\"#009600\",\"#009600\",\"#009600\",\"#009600\",\"#960000\",\"#009600\",\"#009600\",\"#009600\",\"#009600\",\"#009600\",\"#009600\",\"#009600\",\"#009600\",\"#960000\",\"#009600\",\"#960000\",\"#009600\",\"#009600\",\"#960000\",\"#009600\",\"#009600\",\"#960000\",\"#009600\",\"#009600\",\"#009600\",\"#009600\",\"#960000\",\"#009600\",\"#009600\",\"#960000\",\"#009600\",\"#009600\",\"#009600\",\"#009600\",\"#009600\",\"#960000\",\"#960000\",\"#009600\",\"#009600\",\"#009600\",\"#009600\",\"#009600\",\"#009600\",\"#009600\",\"#009600\",\"#960000\",\"#009600\",\"#960000\",\"#009600\",\"#960000\",\"#009600\",\"#009600\",\"#009600\",\"#960000\",\"#009600\",\"#960000\",\"#009600\",\"#960000\",\"#009600\",\"#009600\",\"#009600\",\"#009600\",\"#009600\",\"#009600\",\"#009600\",\"#009600\",\"#009600\",\"#009600\",\"#960000\",\"#009600\",\"#960000\",\"#009600\",\"#009600\",\"#009600\",\"#009600\",\"#009600\",\"#960000\",\"#009600\",\"#009600\",\"#960000\",\"#009600\",\"#009600\",\"#009600\",\"#009600\",\"#009600\",\"#960000\",\"#009600\",\"#009600\",\"#009600\",\"#960000\",\"#009600\",\"#009600\",\"#960000\",\"#960000\",\"#009600\",\"#009600\",\"#009600\",\"#960000\",\"#009600\",\"#009600\",\"#009600\",\"#960000\",\"#009600\",\"#009600\",\"#009600\",\"#960000\",\"#009600\",\"#009600\",\"#009600\",\"#009600\",\"#960000\",\"#009600\",\"#009600\",\"#009600\",\"#009600\",\"#009600\",\"#960000\",\"#960000\",\"#009600\",\"#009600\",\"#009600\",\"#009600\",\"#009600\",\"#009600\",\"#009600\",\"#960000\",\"#009600\",\"#009600\",\"#009600\",\"#009600\",\"#009600\",\"#960000\",\"#960000\",\"#009600\",\"#009600\",\"#009600\",\"#960000\",\"#009600\",\"#009600\",\"#009600\",\"#009600\",\"#009600\",\"#009600\",\"#009600\",\"#009600\",\"#009600\",\"#009600\",\"#960000\",\"#009600\",\"#009600\",\"#009600\",\"#009600\",\"#009600\",\"#009600\",\"#960000\",\"#009600\",\"#009600\",\"#009600\",\"#009600\",\"#009600\",\"#960000\",\"#009600\",\"#009600\",\"#009600\",\"#009600\",\"#009600\",\"#009600\",\"#009600\",\"#009600\",\"#960000\",\"#009600\",\"#009600\",\"#009600\",\"#009600\",\"#009600\",\"#009600\",\"#009600\",\"#960000\",\"#009600\",\"#960000\",\"#009600\",\"#009600\",\"#009600\",\"#009600\",\"#009600\",\"#009600\",\"#009600\",\"#009600\",\"#960000\",\"#960000\",\"#009600\",\"#009600\",\"#009600\",\"#960000\",\"#009600\",\"#009600\",\"#009600\",\"#009600\",\"#960000\",\"#960000\",\"#009600\",\"#009600\",\"#009600\",\"#009600\",\"#009600\",\"#009600\",\"#009600\",\"#009600\",\"#960000\",\"#009600\",\"#009600\",\"#009600\",\"#960000\",\"#009600\",\"#009600\",\"#009600\",\"#960000\",\"#960000\",\"#960000\",\"#009600\",\"#009600\",\"#009600\",\"#009600\",\"#009600\",\"#009600\",\"#009600\",\"#009600\",\"#009600\",\"#009600\",\"#009600\",\"#009600\",\"#009600\",\"#960000\",\"#009600\",\"#009600\",\"#009600\",\"#009600\",\"#009600\",\"#009600\",\"#960000\",\"#009600\",\"#960000\",\"#009600\",\"#009600\",\"#009600\",\"#009600\",\"#960000\",\"#009600\",\"#009600\",\"#009600\",\"#009600\",\"#009600\",\"#960000\",\"#960000\",\"#009600\",\"#009600\",\"#009600\",\"#009600\",\"#009600\",\"#009600\",\"#009600\",\"#009600\",\"#009600\",\"#009600\",\"#009600\",\"#960000\",\"#009600\",\"#960000\",\"#009600\",\"#009600\",\"#009600\",\"#009600\",\"#009600\",\"#009600\",\"#009600\",\"#009600\",\"#009600\",\"#960000\",\"#009600\",\"#009600\",\"#009600\",\"#009600\",\"#009600\",\"#009600\",\"#009600\",\"#009600\",\"#009600\",\"#009600\",\"#009600\",\"#009600\",\"#009600\",\"#009600\",\"#009600\",\"#009600\",\"#009600\",\"#009600\",\"#009600\",\"#009600\",\"#009600\",\"#009600\",\"#009600\",\"#009600\",\"#009600\",\"#009600\",\"#009600\",\"#009600\",\"#009600\",\"#009600\",\"#009600\",\"#009600\",\"#009600\",\"#009600\",\"#960000\",\"#009600\",\"#960000\",\"#009600\",\"#009600\",\"#009600\",\"#009600\",\"#960000\",\"#009600\",\"#960000\",\"#009600\",\"#960000\",\"#009600\",\"#009600\",\"#009600\",\"#960000\",\"#009600\",\"#009600\",\"#009600\",\"#009600\",\"#009600\",\"#009600\",\"#009600\",\"#960000\",\"#009600\",\"#960000\",\"#960000\",\"#960000\",\"#009600\",\"#960000\",\"#960000\",\"#009600\",\"#009600\",\"#009600\",\"#009600\",\"#009600\",\"#009600\",\"#009600\",\"#009600\",\"#009600\",\"#960000\",\"#009600\",\"#009600\",\"#009600\",\"#009600\",\"#009600\",\"#960000\",\"#009600\",\"#009600\",\"#009600\",\"#009600\",\"#009600\",\"#009600\",\"#009600\",\"#009600\",\"#009600\",\"#960000\",\"#960000\",\"#009600\",\"#960000\",\"#009600\",\"#009600\",\"#009600\",\"#009600\",\"#009600\",\"#009600\",\"#009600\",\"#009600\",\"#009600\",\"#009600\",\"#009600\",\"#960000\",\"#009600\",\"#009600\",\"#009600\",\"#960000\",\"#009600\",\"#009600\",\"#009600\",\"#960000\",\"#009600\",\"#009600\",\"#009600\",\"#960000\",\"#009600\",\"#009600\",\"#009600\",\"#009600\",\"#009600\",\"#009600\",\"#009600\",\"#009600\",\"#009600\",\"#960000\",\"#009600\",\"#009600\",\"#009600\",\"#009600\",\"#009600\",\"#009600\",\"#009600\",\"#960000\",\"#960000\",\"#960000\",\"#009600\",\"#009600\",\"#960000\",\"#009600\",\"#009600\",\"#009600\",\"#009600\",\"#960000\",\"#009600\",\"#009600\",\"#960000\",\"#009600\",\"#009600\",\"#009600\",\"#009600\",\"#009600\",\"#009600\",\"#009600\",\"#009600\",\"#009600\",\"#009600\",\"#009600\",\"#009600\",\"#009600\",\"#009600\",\"#009600\",\"#009600\",\"#009600\",\"#960000\",\"#009600\",\"#009600\",\"#009600\",\"#960000\",\"#960000\",\"#960000\",\"#009600\",\"#009600\",\"#009600\",\"#009600\",\"#009600\",\"#009600\",\"#009600\",\"#009600\",\"#009600\",\"#009600\",\"#009600\",\"#009600\",\"#009600\",\"#009600\",\"#009600\",\"#009600\",\"#960000\",\"#009600\",\"#009600\",\"#009600\",\"#009600\",\"#009600\",\"#960000\",\"#009600\",\"#009600\",\"#009600\",\"#009600\",\"#009600\",\"#960000\",\"#009600\",\"#960000\",\"#009600\",\"#009600\",\"#009600\",\"#960000\",\"#009600\",\"#009600\",\"#960000\",\"#009600\",\"#009600\",\"#009600\",\"#009600\",\"#009600\",\"#009600\",\"#009600\",\"#960000\",\"#009600\",\"#009600\",\"#960000\",\"#009600\",\"#009600\",\"#009600\",\"#960000\",\"#009600\",\"#009600\",\"#009600\",\"#960000\",\"#009600\",\"#009600\",\"#009600\",\"#960000\",\"#960000\",\"#009600\",\"#009600\",\"#009600\",\"#009600\",\"#009600\",\"#009600\",\"#009600\",\"#960000\",\"#960000\",\"#009600\",\"#009600\",\"#009600\",\"#009600\",\"#960000\",\"#009600\",\"#009600\",\"#009600\",\"#009600\",\"#009600\",\"#009600\",\"#009600\",\"#009600\",\"#009600\",\"#009600\",\"#009600\",\"#009600\",\"#009600\",\"#009600\",\"#009600\",\"#009600\",\"#009600\",\"#009600\",\"#960000\",\"#009600\",\"#009600\",\"#960000\",\"#009600\",\"#009600\",\"#009600\",\"#009600\",\"#009600\",\"#009600\",\"#009600\",\"#009600\",\"#009600\",\"#960000\",\"#009600\",\"#960000\",\"#960000\",\"#960000\",\"#009600\",\"#009600\",\"#009600\",\"#009600\",\"#009600\",\"#009600\",\"#009600\",\"#960000\",\"#009600\",\"#009600\",\"#009600\",\"#009600\",\"#009600\",\"#009600\",\"#009600\",\"#009600\",\"#009600\",\"#009600\",\"#960000\",\"#009600\",\"#009600\",\"#009600\",\"#009600\",\"#009600\",\"#009600\",\"#009600\",\"#960000\",\"#009600\",\"#009600\",\"#009600\",\"#009600\",\"#009600\",\"#960000\",\"#960000\",\"#960000\",\"#009600\",\"#009600\",\"#009600\",\"#009600\",\"#960000\",\"#009600\",\"#009600\",\"#009600\",\"#009600\",\"#960000\",\"#009600\",\"#009600\",\"#009600\",\"#009600\",\"#009600\",\"#009600\",\"#960000\",\"#009600\",\"#009600\",\"#009600\",\"#009600\",\"#009600\",\"#009600\",\"#960000\",\"#009600\",\"#960000\",\"#960000\",\"#009600\",\"#009600\",\"#009600\",\"#009600\",\"#009600\",\"#009600\",\"#009600\",\"#009600\",\"#009600\",\"#960000\",\"#009600\",\"#960000\",\"#009600\",\"#960000\",\"#009600\",\"#960000\",\"#009600\",\"#960000\",\"#009600\",\"#009600\",\"#009600\",\"#960000\",\"#009600\",\"#009600\",\"#960000\",\"#009600\",\"#009600\",\"#009600\",\"#009600\",\"#009600\",\"#960000\",\"#009600\",\"#960000\",\"#960000\",\"#009600\",\"#009600\",\"#960000\",\"#960000\",\"#009600\",\"#009600\",\"#009600\",\"#009600\"],\"size\":[4.8,5.2,6.8,7.4,11.4,7.4,5.8,4.6,5.6,7.0,6.8,10.2,8.2,6.0,5.8,4.6,4.8,9.8,9.8,5.8,7.8,7.8,5.2,8.0,4.6,4.6,5.4,6.0,9.4,5.2,5.4,6.6,6.4,10.8,11.6,6.0,8.0,4.4,5.0,6.2,6.6,5.0,4.4,7.4,6.0,5.8,4.4,9.2,6.4,4.8,8.4,8.6,9.8,5.0,5.8,9.0,6.8,6.8,6.8,5.8,5.6,7.8,5.8,9.2,10.2,11.4,11.2,6.0,5.8,4.4,6.2,5.8,6.4,7.4,6.4,4.8,5.0,9.0,4.4,8.8,6.6,5.2,6.0,8.8,9.8,6.6,9.0,6.4,7.0,8.8,10.6,7.8,5.4,7.4,4.6,7.0,8.6,5.4,4.4,7.6,6.4,6.0,12.6,4.4,5.2,4.8,7.2,10.4,7.6,7.0,6.2,9.4,8.2,4.8,8.2,4.8,5.6,5.2,6.8,7.6,7.4,8.0,9.6,7.0,5.4,4.6,10.4,7.2,10.2,11.0,4.6,8.2,6.8,9.2,4.4,6.8,5.4,6.6,10.2,4.8,9.4,5.6,4.6,5.8,5.8,5.6,5.4,6.8,4.6,12.0,6.4,5.0,8.2,11.2,5.2,6.8,7.4,6.0,9.0,11.4,8.2,5.4,9.4,6.8,9.2,5.4,10.0,5.4,7.0,4.4,7.4,6.0,4.4,4.8,5.8,11.2,6.0,6.0,4.4,5.8,7.4,7.0,9.4,4.8,5.0,7.6,6.4,9.4,6.8,6.2,6.4,5.4,5.8,4.8,7.2,4.8,6.8,4.4,6.8,4.4,7.6,6.2,5.2,5.2,9.6,8.6,9.4,8.2,4.8,10.0,4.8,7.6,8.6,7.8,5.4,8.4,7.2,7.2,7.6,8.0,9.0,7.0,6.6,7.4,5.6,8.8,7.4,4.6,4.8,4.8,4.6,5.2,6.8,6.6,7.0,5.4,6.2,10.0,8.2,5.6,7.8,5.4,6.4,8.0,8.0,15.0,5.4,5.0,9.2,5.2,5.6,5.2,5.6,5.8,5.0,9.6,6.6,8.6,9.6,5.8,5.8,7.6,7.4,7.4,5.0,4.6,9.8,9.6,5.4,6.4,6.8,11.6,6.6,5.6,7.2,8.0,5.2,6.6,6.2,5.4,8.8,6.0,5.6,6.4,9.2,7.6,9.2,5.0,9.2,6.6,4.4,8.6,5.4,5.8,6.2,5.8,7.2,7.2,6.8,7.4,7.2,8.0,5.0,5.4,5.2,7.2,5.4,11.0,5.4,7.6,6.8,8.0,9.8,5.4,4.6,7.2,10.6,9.2,5.8,5.8,5.4,4.8,5.6,6.4,8.6,8.2,6.8,11.0,8.0,7.4,8.0,5.6,8.6,5.4,5.6,6.0,6.2,6.2,6.8,6.0,7.2,5.8,7.8,5.2,5.8,5.2,5.8,6.2,5.2,5.2,7.2,6.0,8.6,11.6,9.0,5.2,6.8,4.8,6.8,4.6,6.0,6.4,8.0,7.0,11.2,12.2,4.8,8.0,6.4,7.2,6.0,6.8,10.8,9.2,11.6,8.6,5.6,6.0,6.2,5.8,7.4,7.2,5.6,5.0,8.4,5.8,14.6,8.6,6.0,7.6,7.8,8.8,5.8,10.2,5.4,7.6,4.4,6.0,5.0,5.8,8.4,8.2,9.6,5.8,10.4,5.0,7.4,5.4,6.2,4.6,7.6,6.4,5.4,8.2,7.0,6.2,6.0,9.6,7.2,4.8,5.8,7.6,7.6,6.0,6.4,9.8,6.2,5.4,6.6,5.0,5.4,5.8,7.2,11.0,6.4,5.4,7.4,5.0,4.6,4.6,6.4,5.2,5.4,8.8,6.8,5.6,10.6,8.4,6.0,10.2,10.6,7.4,5.2,8.4,7.8,7.8,6.4,8.2,9.6,7.6,7.2,5.2,5.6,11.2,11.8,7.6,6.4,7.6,8.2,7.0,8.2,6.8,7.6,6.4,5.8,8.8,7.4,7.6,6.2,8.0,5.2,5.6,9.6,8.6,6.2,8.4,7.8,7.2,6.8,6.4,8.6,6.0,5.6,5.6,8.2,9.4,4.6,9.8,7.6,7.6,7.0,9.2,6.6,10.6,7.0,8.6,5.6,6.0,5.2,6.2,7.0,5.6,4.6,4.6,11.2,6.4,9.4,4.4,6.8,6.2,5.4,5.6,8.4,6.4,5.4,5.4,9.0,5.2,4.2,4.6,6.0,9.2,10.0,5.2,5.0,7.0,8.8,10.4,8.0,7.6,5.6,7.2,4.8,6.8,6.2,8.2,5.0,5.6,5.4,10.4,8.2,11.2,8.4,4.8,9.4,6.6,6.4,5.8,10.6,6.8,10.4,8.4,7.6,9.0,7.0,4.8,5.6,5.2,8.0,5.8,4.6,6.6,12.0,9.8,10.6,5.6,6.2,7.2,7.0,5.6,6.6,5.2,10.6,8.4,5.0,8.6,5.0,5.8,6.2,6.0,6.8,7.0,6.4,9.2,8.6,5.8,6.2,4.8,7.2,8.6,11.8,10.6,5.6,6.2,6.8,7.2,4.8,7.2,6.8,8.6,5.8,7.4,4.6,7.4,6.6,7.4,11.2,5.0,7.8,7.8,5.6,5.4,7.4,4.8,4.8,9.2,7.8,9.6,9.0,9.8,4.6,5.0,9.4,11.2,8.8,9.8,8.2,8.0,6.2,8.4,5.6,6.4,5.6,6.2,7.8,6.2,4.8,8.8,9.2,6.4,5.2,4.4,8.4,6.6,7.8,5.4,5.6,4.6,5.6,6.6,8.0,7.4,4.4,6.4,8.6,5.4,7.0,7.0,6.0,6.8,6.8,5.6,5.0,8.2,8.4,8.0,5.6,6.2,11.2,9.0,5.8,7.0,5.6,8.0,9.4,8.2,5.4,8.0,6.4,7.0,5.4,5.8,6.0,7.4,5.8,6.8,6.8,8.2,6.2,8.0,5.4,4.4,6.0,4.4,5.2,7.6,9.2,4.8,9.8,9.8,8.4,6.0,8.4,6.2,9.8,5.4,6.6,7.0,9.6,4.4,4.4,5.4,9.4,6.8,9.0,7.8,6.6,5.8,5.8,5.2,7.6,6.8,7.4,11.4,10.0,5.6,6.2,5.0,5.0,6.6,6.0,10.2,10.2,9.2,7.6,6.8,6.8,6.2,5.0,5.2,5.0,5.2,8.6,7.2,11.6,5.2,6.0,6.2,4.8,10.4,4.8,7.0,5.8,6.6,7.0,7.0,5.6,8.0,7.0,10.6,8.8,6.6,6.4,6.6,5.2,5.2,5.2,6.4,6.2,5.8,5.4,5.6,8.4,6.4,5.2,7.6,7.0,5.8,5.8,10.2,5.4,6.4,8.0,6.8,6.0,5.8,4.4,9.6,7.0,7.4,5.0,8.8,5.6,5.8,7.2,4.6,7.2,5.2,8.8,7.8,4.8,5.8,6.6,7.8,10.2,4.8,9.0,6.0,4.8,10.0,4.4,5.4,6.6,4.8,7.4,11.6,9.6,5.6,4.8,5.4,6.0,4.6,10.6,4.6,11.0,6.8,8.6,4.4,6.2,6.4,6.6,7.8,7.6,6.8,8.4,7.4,11.4,4.6,6.4,7.4,4.6,9.8,5.0,5.8,8.6,5.8,5.4,5.2,8.2,10.4,6.2,6.4,9.2,7.0,7.0,7.8,6.8,10.4,8.0,7.6,9.0,8.0,5.0,6.6,5.4,8.6,8.6,6.0,9.8,7.6,11.4,11.0,4.6,6.0,6.0,4.8,5.6,6.8,7.4,6.4,5.4,7.4,6.2,11.0,5.6,10.2,7.2,6.0,7.2,5.0,10.0,8.0,5.4,6.0,5.2,5.4,5.4,5.0,6.4,9.2,9.0,6.0,7.8,9.6,6.4,9.2,4.6,6.6,4.8,8.0,4.8,4.8,5.4,9.2,4.4,7.2,6.8,4.8,12.0,5.8,6.4,7.2,6.0,5.8,6.8,6.4,6.4,5.0,8.8,7.4,4.8,4.6,5.8,7.4,11.8,6.6,10.2,5.4,6.4,8.4,7.8,9.2,8.2,6.0,6.8,7.0,8.2,8.6,9.4,6.2,6.0,4.8,7.2,5.6,7.2,5.4,6.4,8.4,6.6,7.8,6.0,6.0,4.4,5.0,5.6,5.2,10.8,4.8,5.8,7.2,9.8,4.6,8.6,6.6,10.6,5.0,10.8,7.8,8.8,5.4,5.0,5.8,7.8,9.0,7.6,4.6,5.0,5.8,5.6,8.0],\"x\":[20000,120000,90000,50000,50000,50000,500000,100000,140000,20000,200000,260000,630000,70000,250000,50000,20000,320000,360000,180000,130000,120000,70000,450000,90000,50000,60000,50000,50000,50000,230000,50000,100000,500000,500000,160000,280000,60000,50000,280000,360000,70000,10000,140000,40000,210000,20000,150000,380000,20000,70000,100000,310000,180000,150000,500000,180000,180000,200000,400000,500000,70000,50000,50000,130000,200000,10000,210000,130000,20000,80000,320000,200000,290000,340000,20000,50000,300000,30000,240000,470000,360000,60000,400000,50000,160000,360000,160000,130000,20000,200000,280000,100000,160000,60000,90000,360000,150000,50000,20000,140000,380000,480000,50000,60000,70000,80000,350000,130000,360000,330000,50000,280000,100000,50000,30000,240000,80000,400000,240000,50000,450000,110000,310000,20000,20000,200000,180000,50000,60000,30000,240000,420000,330000,30000,240000,150000,210000,50000,50000,240000,180000,50000,170000,20000,50000,170000,200000,80000,260000,140000,80000,350000,280000,30000,140000,200000,200000,210000,50000,30000,50000,290000,250000,60000,110000,370000,100000,90000,50000,270000,300000,50000,50000,360000,130000,80000,50000,20000,80000,240000,80000,500000,60000,20000,100000,360000,200000,130000,20000,310000,60000,180000,180000,50000,50000,150000,20000,500000,30000,180000,140000,140000,120000,360000,20000,100000,210000,80000,330000,220000,210000,40000,30000,470000,30000,240000,80000,310000,360000,330000,300000,320000,50000,170000,350000,20000,50000,20000,50000,20000,50000,190000,60000,80000,150000,210000,240000,140000,60000,50000,50000,180000,30000,20000,250000,100000,330000,50000,50000,30000,140000,160000,400000,50000,140000,160000,100000,220000,510000,50000,160000,230000,80000,150000,10000,130000,40000,50000,100000,120000,260000,200000,360000,70000,460000,50000,50000,250000,30000,270000,180000,100000,230000,210000,210000,440000,100000,240000,280000,50000,30000,10000,130000,200000,120000,210000,280000,300000,100000,440000,50000,20000,200000,110000,500000,300000,30000,60000,400000,180000,20000,200000,100000,60000,110000,260000,50000,180000,110000,340000,50000,230000,360000,210000,220000,60000,340000,150000,200000,130000,60000,400000,20000,190000,260000,140000,50000,120000,240000,50000,200000,180000,180000,160000,100000,50000,140000,30000,90000,200000,380000,80000,50000,180000,240000,380000,110000,260000,500000,320000,50000,110000,230000,330000,50000,10000,300000,20000,180000,160000,90000,30000,180000,30000,30000,140000,210000,50000,130000,50000,140000,170000,80000,410000,80000,80000,150000,260000,350000,280000,310000,140000,360000,140000,100000,50000,210000,120000,240000,60000,150000,30000,160000,200000,120000,500000,320000,280000,60000,200000,230000,230000,480000,50000,200000,50000,50000,260000,30000,440000,230000,200000,490000,80000,20000,170000,70000,210000,90000,390000,110000,580000,360000,270000,60000,110000,50000,80000,50000,100000,30000,200000,240000,220000,160000,180000,200000,140000,380000,600000,260000,200000,80000,40000,130000,50000,230000,70000,180000,80000,290000,230000,170000,230000,220000,230000,500000,90000,390000,400000,180000,60000,120000,60000,50000,70000,500000,200000,250000,140000,70000,90000,100000,190000,230000,320000,220000,260000,90000,30000,260000,170000,80000,50000,200000,20000,250000,20000,30000,90000,230000,130000,30000,160000,500000,180000,80000,120000,130000,120000,360000,50000,20000,100000,70000,50000,10000,290000,30000,410000,360000,140000,210000,220000,20000,620000,360000,20000,50000,50000,10000,100000,50000,60000,440000,120000,50000,110000,200000,150000,30000,100000,360000,390000,220000,160000,230000,120000,100000,190000,50000,240000,40000,630000,160000,110000,20000,210000,270000,360000,60000,360000,390000,250000,90000,360000,50000,270000,200000,50000,350000,160000,80000,290000,270000,80000,50000,30000,30000,90000,160000,80000,50000,20000,220000,210000,130000,260000,230000,160000,50000,80000,110000,200000,360000,210000,80000,300000,310000,30000,170000,140000,180000,50000,50000,110000,450000,200000,220000,360000,50000,40000,190000,150000,200000,270000,60000,200000,150000,180000,90000,360000,90000,20000,70000,230000,30000,200000,100000,50000,20000,210000,110000,20000,50000,50000,400000,170000,280000,130000,210000,370000,30000,150000,60000,80000,280000,20000,270000,240000,20000,450000,10000,280000,290000,190000,80000,280000,160000,90000,140000,50000,40000,130000,70000,30000,100000,20000,30000,20000,100000,30000,320000,90000,190000,200000,300000,30000,110000,230000,230000,310000,320000,360000,20000,170000,140000,80000,150000,170000,200000,70000,320000,150000,50000,90000,280000,300000,400000,200000,10000,50000,30000,50000,50000,30000,20000,20000,50000,30000,360000,170000,400000,50000,160000,70000,150000,80000,30000,10000,180000,320000,80000,10000,360000,450000,330000,60000,50000,200000,120000,160000,110000,70000,150000,610000,110000,80000,170000,110000,140000,70000,260000,170000,50000,300000,150000,50000,50000,90000,50000,500000,470000,230000,140000,230000,420000,30000,50000,140000,260000,90000,240000,510000,110000,210000,220000,200000,360000,260000,20000,120000,50000,60000,200000,20000,50000,50000,230000,50000,100000,210000,230000,500000,370000,230000,80000,60000,30000,70000,410000,280000,50000,100000,230000,50000,100000,210000,400000,20000,50000,230000,220000,300000,80000,20000,190000,120000,700000,140000,300000,120000,280000,70000,20000,150000,60000,50000,150000,20000,40000,170000,50000,10000,200000,50000,320000,20000,470000,230000,20000,30000,80000,110000,420000,500000,80000,350000,30000,110000,500000,490000,300000,50000,150000,80000,40000,30000,50000,140000,50000,30000,40000,100000,130000,20000,50000,260000,30000,10000,200000,30000,180000,100000,140000,290000,20000,80000,500000,180000,20000,30000,150000,280000,50000,20000,200000,210000,230000,50000,50000,70000,310000,180000,90000,390000,150000,400000,80000,320000,240000,200000,110000,170000,90000,200000,360000,140000,220000,100000,80000,30000,50000,120000,50000,360000,90000,500000,140000,30000,70000,200000,350000,120000,240000,90000,260000,50000,110000,20000,30000,180000,20000,50000,180000,200000,260000,320000,160000,30000,50000,50000,90000,240000,180000,200000,50000,50000,330000,80000,50000,360000,240000,50000,470000,160000,30000,80000,500000,180000,110000,160000,210000,200000,350000,250000,380000,30000,200000,30000,50000,500000,30000,220000,20000,180000,300000,130000,180000,150000,140000,50000,20000,180000,180000,150000,70000,30000,500000,60000,50000,130000,260000,380000,360000,50000,50000,260000,80000,360000,290000,200000,140000,360000,50000,120000,100000,200000,90000],\"y1\":[0,0,1518,2000,2000,2500,55000,380,3329,0,2306,21818,1000,3200,3000,0,3200,10358,0,0,3000,316,2007,19428,5757,1973,0,1300,3415,1500,17270,1718,3023,4152,5006,131,8026,1500,780,9075,10000,3000,1500,3000,3000,0,3000,1013,21540,1318,0,2000,7875,1300,1600,3640,8500,8083,0,17000,1516,4025,0,1000,0,0,2300,300,0,0,0,2500,5818,0,5713,2850,1759,291,1686,0,6400,4796,1576,10700,1676,4400,1170,1147,40000,0,6300,0,7555,1602,1937,3621,8339,4031,1411,1699,10212,223,16078,1767,0,0,2861,2272,10908,0,9260,2000,6500,2000,1340,0,326,2000,9677,2000,1000,0,0,13019,1404,0,3568,4655,1000,2504,5645,2622,9744,8210,2000,1500,2500,1500,300,2360,0,0,1000,10000,15586,1000,1661,8000,1650,0,3455,30000,2906,8042,1700,5000,4000,7300,10478,0,3500,390,396,17994,3000,5500,15383,3166,3500,1510,5000,3288,15000,0,0,3000,504,0,1212,5800,15000,12500,70010,2500,1200,0,57087,8214,5396,0,10020,1342,199,37867,2000,1900,0,1500,138,1000,0,25000,10000,5000,9100,22359,1473,1586,3200,4345,5000,0,1700,3036,13000,390,0,3100,4542,12000,12388,12019,10042,0,6530,2686,1609,2401,0,2090,0,0,5000,1506,3983,4500,0,10116,3000,0,1800,1800,2821,355,1601,1631,1788,2504,1561,1710,5006,5366,7042,3127,1565,1233,2453,0,10000,40010,1602,4664,51315,258,0,1134,4100,1600,1700,2035,0,0,2000,0,4483,2728,316,2007,4000,1000,10063,7722,4173,5000,41986,3276,8610,3472,1295,898,0,1100,3507,0,9000,657,6483,2755,0,3490,0,2400,2800,665,3220,23962,5215,1200,13809,1000,7000,3000,0,1631,1970,2200,165,3754,0,2500,21105,1070,1710,10000,0,325,3800,44665,5200,1000,3000,0,0,1323,5795,10000,0,1974,6900,92,1212,0,11000,5440,0,4210,3000,6600,1411,1541,10118,0,3177,3400,1481,6349,9010,3000,291,10000,2589,0,0,300,1529,3000,0,0,0,0,2977,1640,2500,8100,1640,0,14000,3500,2000,4200,1500,3000,1105,10010,15000,80000,3500,7900,291,0,38621,4400,3000,25000,10000,2502,0,4002,4007,5233,1488,2091,1774,7500,2690,6000,325,11404,10000,0,0,0,0,26734,5000,17507,2000,3629,0,1500,8071,2795,4500,10000,0,3000,199,3600,6000,3200,13007,2500,6422,6015,10000,0,2300,2500,3212,350,4000,0,5704,12026,1600,4500,1260,5000,4505,0,0,14000,179,2500,2027,0,1800,18163,2100,5657,8638,80000,120093,0,7536,8909,1610,10026,3276,13802,14020,2790,1800,2682,1900,1800,2518,0,0,120041,17000,2112,1700,1709,7600,15111,3317,1648,6277,157,1300,4000,4000,1203,1000,7521,7403,0,1623,2000,0,10000,2000,0,396,0,2500,1700,0,1261,240,53228,2000,2900,2385,3060,3000,0,6000,1597,33049,390,6022,3200,13250,0,0,0,14410,2836,2454,2400,2050,3068,1675,13100,5417,1000,600,0,0,0,1553,10000,5000,0,0,7357,5024,1500,0,2500,6370,2000,38187,5401,11000,2055,2800,12006,2231,2790,8005,1,8514,1600,1510,1537,1000,8394,2040,10530,5156,4641,13000,475,13647,1300,2687,780,15155,3757,4000,2200,1600,0,23776,6700,23194,5000,4000,1127,2145,2681,5090,9429,0,3249,10000,1426,390,1323,3007,0,0,1351,2000,9120,390,1006,0,2000,0,6000,2100,0,5000,2018,3315,3000,0,0,0,0,1237,2600,660,1465,7193,0,2000,1155,0,4086,228,1107,1362,1981,3000,6900,2500,5000,20000,3200,5180,1027,3100,0,0,0,1000,1300,0,2500,3597,2000,2500,4500,0,8106,3114,40000,1300,2000,5540,3011,1500,8200,2000,33000,1541,3600,0,4520,0,15000,52129,1087,1283,1532,0,1250,8000,10000,0,0,7500,4310,1853,20000,0,6163,5800,500,0,1267,0,41346,1655,8235,105,2000,0,4600,1500,2500,0,1000,1441,1611,1755,0,1690,770,1613,4000,2382,0,3000,5300,2000,3338,13942,2000,1400,4484,2582,90000,0,1234,6000,0,316,2306,1041,4000,6540,4346,3000,4380,2007,2115,3000,10000,2000,1221,11000,390,0,0,4000,2100,4006,1005,5600,2000,1222,1509,1564,1300,0,67650,0,10000,1117,2460,3738,0,4266,15206,316,1174,5498,39,0,16244,1261,2500,0,5000,2184,3790,0,2630,22157,328,200,1284,5000,1800,600,5400,0,2320,2800,0,1372,3164,2000,13032,0,780,6666,3050,1713,6861,2400,1750,8100,5000,0,2000,3000,20300,0,507,2605,4147,2000,5085,1410,2000,7042,0,1167,199646,2360,2000,0,3001,0,2000,2487,1600,1600,30000,0,2000,3039,0,0,25000,4738,0,3700,6500,0,2000,2500,500,2100,2000,1333,3400,2200,7000,1482,0,3552,0,2330,1739,1484,6000,0,3000,12012,1265,2000,8351,3310,0,1800,6000,5174,1800,1300,0,0,8750,1988,2930,3000,1300,13476,1454,8046,340,3019,1259,6048,0,100,4500,5600,1212,11496,2500,0,10000,0,2200,3136,2300,1500,3000,27465,8300,25016,3000,7900,1352,0,2087,0,16044,6000,0,1800,4980,796,1767,3500,1122,1896,21197,4034,2500,3465,0,1500,1314,2000,10000,0,0,10190,1900,1261,3523,0,3955,1000,8131,2169,40012,0,2011,3700,29987,2833,2151,15315,1325,1120,33891,0,39,396,3000,1600,3027,20007,0,4102,3000,2000,20979,7010,2710,8589,5000,2100,2000,662,1126,5500,3000,0,81690,3000,2500,6433,6067,0,10792,2100,7876,0,2200,7004,0,0,1600,0,0,0,3320,5000,0],\"y2\":[689,1000,1500,2019,36681,1815,40000,601,0,0,12,9966,6500,0,3000,1500,0,10000,0,0,1537,316,3582,1473,0,1426,1000,1300,3421,1500,13281,1500,3511,22827,31178,396,8060,1518,0,0,7000,4500,2927,3000,5000,0,0,1170,15138,1315,3100,1606,7600,2010,1718,162,1500,7296,0,15029,1300,2095,2700,0,0,0,0,1159,0,1200,390,2500,15,3155,23453,0,1779,291,1400,0,7566,3400,1213,3,1302,3547,0,2000,5000,1651,5500,3968,0,840,1301,3597,3394,10006,1194,1460,850,33178,55693,1362,5000,0,3279,722,0,0,0,1000,0,2677,1305,1312,326,1700,11867,3000,4035,0,0,11128,1130,0,3585,2690,1066,7,3508,3301,9553,8095,1400,1800,3000,1500,5880,1700,0,416,10000,10000,344,1500,1200,5000,0,22500,3110,3000,1000,6700,1500,5000,3250,7108,10478,1600,0,780,396,0,1500,3900,8204,0,3500,1442,2000,0,1000,0,77,3000,500,1500,1201,1000,0,6500,30357,1600,1593,1600,5295,7000,5000,1000,6031,1664,0,0,1000,1400,0,1032,2299,85,0,0,13001,5000,7300,1305,390,343,3000,2854,5050,250,1504,2309,11001,390,0,3500,126,0,12378,9006,18832,24,4860,1864,3000,2254,1333,2002,1200,0,5000,1298,6853,1745,7422,9150,2000,0,2000,1750,0,120,2203,1536,1799,4007,1268,136,1244,5087,2000,1469,1393,1075,9880,0,9020,20094,1400,5969,0,5995,0,1298,3095,1600,0,2004,1350,0,1322,0,12496,0,316,2199,4500,664,5162,6091,3000,5000,21874,2026,6907,2092,1000,325,0,0,0,0,7465,2319,5082,3463,13001,2332,0,1206,0,960,5904,0,0,1200,14583,1354,5000,3100,6000,1286,2000,2500,526,1,0,0,5461,1500,1100,7000,38013,0,0,8321,0,0,0,1483,0,1600,7408,8000,0,4406,5037,92,1200,4872,145000,5051,0,4159,2000,6500,1522,4200,47015,0,2600,0,2000,5834,35000,2900,51058,0,2568,0,2066,399,1507,2237,1500,0,1168,0,15086,9000,2000,5299,1700,1342,3855,3000,3000,2575,400,30000,1903,1209,14000,0,4330,6500,582,0,2000,4013,3000,0,10000,1200,0,5000,0,3289,1394,384,1710,0,3487,0,15296,8232,8000,2709,0,2809,1064,199982,0,1102,1600,3332,0,1800,9021,1350,0,7143,0,1500,199,1646,4500,3300,10612,2500,6565,17454,8000,0,2200,3008,1600,400,4037,945,5930,9010,1500,4400,29366,1485,12906,0,18000,5022,1443,51432,1207,6000,1900,5654,1217,10372,5723,3000,8034,1991,7277,7500,1224,7241,6246,16525,13595,1140,1500,0,1400,1500,5950,501,0,4435,0,1200,4000,574,6303,13165,3506,792,4663,0,2,11900,308,1047,390,7000,0,0,3916,1500,6000,9000,3000,0,396,285138,2000,1400,0,1261,240,3997,1500,10,88678,3300,5000,2126,7000,1606,16000,75720,3021,3200,433,1594,6200,0,0,1200,1588,0,7500,2440,2500,11000,2847,0,7300,0,0,1000,5000,13912,3000,0,0,2566,5000,1000,16500,1500,0,1600,1207,1829,5800,0,2753,5736,0,1758,8004,1693,1751,1500,3575,1947,0,4927,2766,0,1089,2290,10200,5691,8314,1100,8765,0,5485,30348,2374,1600,1300,0,0,6000,50000,5000,3924,1074,1844,2724,5014,8738,0,3000,0,1379,390,1196,0,0,2700,1500,5000,8528,390,32906,0,1684,1435,5000,1200,0,5000,1900,3088,3000,1000,0,0,0,1249,1800,660,2000,3855,0,2000,1000,0,1428,0,1000,1294,4521,3000,6867,1000,5000,13000,0,5000,0,2586,15000,0,1100,7816,1301,200,1145,5672,1300,2000,2011,1179,12431,0,0,1000,4110,4403,3095,1387,0,500,33000,1248,3800,0,5050,2900,6600,30000,4355,7024,2000,1024,1000,6000,10000,177671,732,6000,5913,1700,30000,0,4530,0,431,0,1553,0,52110,1797,0,105,1036,0,0,2000,2500,1970,688,1400,2000,1500,3828,0,667,2000,4000,2025,0,3413,0,1000,3333,4022,2338,1700,19623,0,3000,500,2000,5000,621,0,2111,18862,4032,2100,4075,4790,3000,3796,2004,4000,3000,2000,2000,12000,390,0,1756,3258,1227,2383,1000,5700,16025,1837,1067,1800,1400,0,6000,3509,11000,4560,2000,7526,0,1667,15032,316,1149,5500,32013,8000,1963,451,3000,190,0,5,3200,2490,2614,0,0,1950,1047,1033,0,19,0,0,1282,2700,0,1275,800,2000,1290,0,0,0,0,1000,11,1600,1720,0,10000,0,3000,2700,0,2100,3042,4590,19435,2233,4000,1200,1500,2986,1400,1022,720,49325,1000,0,4005,13013,2000,0,1100,1300,10575,0,2201,2047,0,0,50000,2803,0,3700,0,15400,4000,0,0,2027,3000,2256,1500,2000,5151,1400,0,38836,0,2200,1756,1436,0,0,6000,12012,1277,2000,2340,7228,390,1512,6000,1078,1775,1300,11663,0,7470,1989,1447,2700,1000,3173,1384,5150,618,5014,1035,6371,0,100,0,0,1221,1011,0,0,3900,0,2200,0,0,1000,1500,50154,2400,20018,3000,0,1600,0,1989,0,15087,5000,0,4400,5124,0,1700,0,1500,1656,11936,945,4000,84440,874,3000,1147,1000,2600,6938,3000,10190,1428,1261,0,0,2124,1004,8123,2210,10020,2125,2211,3400,104279,2015,2161,15000,1074,1024,16267,8348,0,396,2000,1500,3858,20026,1310,1111,5000,1000,5000,6657,0,2500,3500,2000,28,0,4081,5500,2190,0,18225,4506,1289,2,10000,0,0,0,161,291,2200,1793,0,0,1600,0,780,5000,5000,2000,2806]}},\"id\":\"60f41616-3681-4774-ba32-f17fa0b5a26e\",\"type\":\"ColumnDataSource\"},{\"attributes\":{\"children\":[{\"id\":\"6277d2c6-e130-4f15-8a46-a0243c210150\",\"type\":\"Row\"}]},\"id\":\"6f8029f4-1383-4cc6-a8f2-6db0463d4bff\",\"type\":\"Column\"},{\"attributes\":{\"overlay\":{\"id\":\"4562a8b5-7134-42c0-a830-ce8c3d1b0db3\",\"type\":\"BoxAnnotation\"},\"plot\":{\"id\":\"a8d05146-2c4c-43ea-97c9-c19c907ceb4d\",\"subtype\":\"Figure\",\"type\":\"Plot\"}},\"id\":\"f1a225be-584b-4254-90c9-e2c9cc1204c4\",\"type\":\"BoxZoomTool\"},{\"attributes\":{\"plot\":{\"id\":\"a8d05146-2c4c-43ea-97c9-c19c907ceb4d\",\"subtype\":\"Figure\",\"type\":\"Plot\"}},\"id\":\"e394550b-c305-447f-aac4-07fad273f0e8\",\"type\":\"WheelZoomTool\"},{\"attributes\":{\"fill_alpha\":{\"value\":0.1},\"fill_color\":{\"value\":\"#1f77b4\"},\"line_alpha\":{\"value\":0.1},\"line_color\":{\"value\":\"#1f77b4\"},\"size\":{\"field\":\"size\",\"units\":\"screen\"},\"x\":{\"field\":\"x\"},\"y\":{\"field\":\"y2\"}},\"id\":\"e6a3bd91-18dc-46dd-99a1-855c69f87f01\",\"type\":\"Circle\"},{\"attributes\":{\"overlay\":{\"id\":\"46d00f92-f6a4-40d0-9662-477619065587\",\"type\":\"BoxAnnotation\"},\"plot\":{\"id\":\"f644b12e-261c-48d6-8a56-3138597c2cc3\",\"subtype\":\"Figure\",\"type\":\"Plot\"}},\"id\":\"6b99e2d1-7a9f-4531-b8db-ad6300b40149\",\"type\":\"BoxZoomTool\"},{\"attributes\":{\"fill_alpha\":{\"value\":0.5},\"fill_color\":{\"value\":\"lightgrey\"},\"level\":\"overlay\",\"line_alpha\":{\"value\":1.0},\"line_color\":{\"value\":\"black\"},\"line_dash\":[4,4],\"line_width\":{\"value\":2},\"plot\":null,\"xs_units\":\"screen\",\"ys_units\":\"screen\"},\"id\":\"9927c339-1285-46f5-8d97-83b8dade021b\",\"type\":\"PolyAnnotation\"},{\"attributes\":{\"bottom_units\":\"screen\",\"fill_alpha\":{\"value\":0.5},\"fill_color\":{\"value\":\"lightgrey\"},\"left_units\":\"screen\",\"level\":\"overlay\",\"line_alpha\":{\"value\":1.0},\"line_color\":{\"value\":\"black\"},\"line_dash\":[4,4],\"line_width\":{\"value\":2},\"plot\":null,\"render_mode\":\"css\",\"right_units\":\"screen\",\"top_units\":\"screen\"},\"id\":\"ac7787ad-d7da-4746-9b1d-01cb97b04493\",\"type\":\"BoxAnnotation\"},{\"attributes\":{\"axis_label\":\"PAY1\",\"formatter\":{\"id\":\"f09861a4-2b1b-470d-aad5-9ed38eac25a5\",\"type\":\"LogTickFormatter\"},\"plot\":{\"id\":\"a8d05146-2c4c-43ea-97c9-c19c907ceb4d\",\"subtype\":\"Figure\",\"type\":\"Plot\"},\"ticker\":{\"id\":\"f78d0a0d-dcbf-4dbc-90a0-60a9ccb5306b\",\"type\":\"LogTicker\"}},\"id\":\"ddd8a393-e75c-4bb2-a8b9-4de3cd50610a\",\"type\":\"LogAxis\"},{\"attributes\":{\"num_minor_ticks\":10},\"id\":\"e9ffdfd7-0691-45a7-89cd-2ca8d5423d63\",\"type\":\"LogTicker\"},{\"attributes\":{\"plot\":{\"id\":\"a8d05146-2c4c-43ea-97c9-c19c907ceb4d\",\"subtype\":\"Figure\",\"type\":\"Plot\"}},\"id\":\"56d7add3-8f94-4298-8dca-3d7f056e45f1\",\"type\":\"ResetTool\"},{\"attributes\":{\"ticker\":null},\"id\":\"f09861a4-2b1b-470d-aad5-9ed38eac25a5\",\"type\":\"LogTickFormatter\"},{\"attributes\":{},\"id\":\"992cc4d8-4933-4b7e-b2c3-de400b8f3b61\",\"type\":\"ToolEvents\"},{\"attributes\":{\"fill_alpha\":{\"value\":0.1},\"fill_color\":{\"value\":\"#1f77b4\"},\"line_alpha\":{\"value\":0.1},\"line_color\":{\"value\":\"#1f77b4\"},\"size\":{\"field\":\"size\",\"units\":\"screen\"},\"x\":{\"field\":\"x\"},\"y\":{\"field\":\"y1\"}},\"id\":\"831ef176-6b1a-4e92-ac2f-80f8a3cd8661\",\"type\":\"Circle\"},{\"attributes\":{\"axis_label\":\"LIMIT\",\"formatter\":{\"id\":\"61340e99-ce7a-4b2a-900c-b0e384b8960e\",\"type\":\"LogTickFormatter\"},\"plot\":{\"id\":\"f644b12e-261c-48d6-8a56-3138597c2cc3\",\"subtype\":\"Figure\",\"type\":\"Plot\"},\"ticker\":{\"id\":\"cb2bb5b5-470f-4087-980d-003499e06f8d\",\"type\":\"LogTicker\"}},\"id\":\"04dcaa0d-fafa-49bf-9070-66ebb45cbcab\",\"type\":\"LogAxis\"},{\"attributes\":{\"below\":[{\"id\":\"0188399c-41b3-47c0-b102-d48b4e4ea2cf\",\"type\":\"LogAxis\"}],\"left\":[{\"id\":\"ddd8a393-e75c-4bb2-a8b9-4de3cd50610a\",\"type\":\"LogAxis\"}],\"plot_height\":400,\"plot_width\":400,\"renderers\":[{\"id\":\"0188399c-41b3-47c0-b102-d48b4e4ea2cf\",\"type\":\"LogAxis\"},{\"id\":\"4e96b030-5a9a-4c20-9321-7da5a9494bec\",\"type\":\"Grid\"},{\"id\":\"ddd8a393-e75c-4bb2-a8b9-4de3cd50610a\",\"type\":\"LogAxis\"},{\"id\":\"7d9af504-d0cc-4ea3-b903-0289d3bb50c6\",\"type\":\"Grid\"},{\"id\":\"4562a8b5-7134-42c0-a830-ce8c3d1b0db3\",\"type\":\"BoxAnnotation\"},{\"id\":\"ac7787ad-d7da-4746-9b1d-01cb97b04493\",\"type\":\"BoxAnnotation\"},{\"id\":\"9927c339-1285-46f5-8d97-83b8dade021b\",\"type\":\"PolyAnnotation\"},{\"id\":\"fd518597-5016-4994-8d78-385060ffd9d9\",\"type\":\"GlyphRenderer\"}],\"title\":{\"id\":\"b50d8383-5256-4a94-8bd7-f35935610a6f\",\"type\":\"Title\"},\"tool_events\":{\"id\":\"992cc4d8-4933-4b7e-b2c3-de400b8f3b61\",\"type\":\"ToolEvents\"},\"toolbar\":{\"id\":\"f10db339-c307-4348-887f-91f92e83265a\",\"type\":\"Toolbar\"},\"toolbar_location\":null,\"x_mapper_type\":\"log\",\"x_range\":{\"id\":\"251e08ad-a243-417a-b1bd-a532cd280c42\",\"type\":\"Range1d\"},\"y_mapper_type\":\"log\",\"y_range\":{\"id\":\"feb37660-303f-4574-bf0d-daeae1058e33\",\"type\":\"DataRange1d\"}},\"id\":\"a8d05146-2c4c-43ea-97c9-c19c907ceb4d\",\"subtype\":\"Figure\",\"type\":\"Plot\"},{\"attributes\":{\"plot\":{\"id\":\"a8d05146-2c4c-43ea-97c9-c19c907ceb4d\",\"subtype\":\"Figure\",\"type\":\"Plot\"},\"ticker\":{\"id\":\"e9ffdfd7-0691-45a7-89cd-2ca8d5423d63\",\"type\":\"LogTicker\"}},\"id\":\"4e96b030-5a9a-4c20-9321-7da5a9494bec\",\"type\":\"Grid\"},{\"attributes\":{\"callback\":null,\"end\":1000000.0,\"start\":10000.0},\"id\":\"251e08ad-a243-417a-b1bd-a532cd280c42\",\"type\":\"Range1d\"},{\"attributes\":{\"plot\":{\"id\":\"f644b12e-261c-48d6-8a56-3138597c2cc3\",\"subtype\":\"Figure\",\"type\":\"Plot\"}},\"id\":\"08088e81-e353-4c23-be3f-40ee640477fe\",\"type\":\"PanTool\"},{\"attributes\":{\"plot\":null,\"text\":null},\"id\":\"b50d8383-5256-4a94-8bd7-f35935610a6f\",\"type\":\"Title\"},{\"attributes\":{\"bottom_units\":\"screen\",\"fill_alpha\":{\"value\":0.5},\"fill_color\":{\"value\":\"lightgrey\"},\"left_units\":\"screen\",\"level\":\"overlay\",\"line_alpha\":{\"value\":1.0},\"line_color\":{\"value\":\"black\"},\"line_dash\":[4,4],\"line_width\":{\"value\":2},\"plot\":null,\"render_mode\":\"css\",\"right_units\":\"screen\",\"top_units\":\"screen\"},\"id\":\"46d00f92-f6a4-40d0-9662-477619065587\",\"type\":\"BoxAnnotation\"},{\"attributes\":{\"plot\":{\"id\":\"f644b12e-261c-48d6-8a56-3138597c2cc3\",\"subtype\":\"Figure\",\"type\":\"Plot\"},\"ticker\":{\"id\":\"cb2bb5b5-470f-4087-980d-003499e06f8d\",\"type\":\"LogTicker\"}},\"id\":\"1a3351fa-cced-4d98-a8b4-9df5ac9af051\",\"type\":\"Grid\"},{\"attributes\":{\"axis_label\":\"LIMIT\",\"formatter\":{\"id\":\"0adac30c-a7a7-4376-8290-3fcd2dfceb7f\",\"type\":\"LogTickFormatter\"},\"plot\":{\"id\":\"a8d05146-2c4c-43ea-97c9-c19c907ceb4d\",\"subtype\":\"Figure\",\"type\":\"Plot\"},\"ticker\":{\"id\":\"e9ffdfd7-0691-45a7-89cd-2ca8d5423d63\",\"type\":\"LogTicker\"}},\"id\":\"0188399c-41b3-47c0-b102-d48b4e4ea2cf\",\"type\":\"LogAxis\"},{\"attributes\":{\"callback\":null,\"overlay\":{\"id\":\"51f964f2-04ed-47ef-a5a3-7383bb452229\",\"type\":\"PolyAnnotation\"},\"plot\":{\"id\":\"f644b12e-261c-48d6-8a56-3138597c2cc3\",\"subtype\":\"Figure\",\"type\":\"Plot\"}},\"id\":\"ca811b67-cbf0-4edf-992a-14666f6e57e7\",\"type\":\"LassoSelectTool\"},{\"attributes\":{\"data_source\":{\"id\":\"60f41616-3681-4774-ba32-f17fa0b5a26e\",\"type\":\"ColumnDataSource\"},\"glyph\":{\"id\":\"6e95ff85-fd40-4659-b1c9-3b1d587e1a8d\",\"type\":\"Circle\"},\"hover_glyph\":null,\"nonselection_glyph\":{\"id\":\"831ef176-6b1a-4e92-ac2f-80f8a3cd8661\",\"type\":\"Circle\"},\"selection_glyph\":null},\"id\":\"fd518597-5016-4994-8d78-385060ffd9d9\",\"type\":\"GlyphRenderer\"},{\"attributes\":{\"ticker\":null},\"id\":\"0adac30c-a7a7-4376-8290-3fcd2dfceb7f\",\"type\":\"LogTickFormatter\"},{\"attributes\":{\"fill_alpha\":{\"value\":0.6},\"fill_color\":{\"field\":\"fill_color\"},\"line_alpha\":{\"value\":0.6},\"line_color\":{\"field\":\"line_color\"},\"size\":{\"field\":\"size\",\"units\":\"screen\"},\"x\":{\"field\":\"x\"},\"y\":{\"field\":\"y2\"}},\"id\":\"b6935154-4be2-4063-bf81-7986b14ffa88\",\"type\":\"Circle\"},{\"attributes\":{\"callback\":null},\"id\":\"feb37660-303f-4574-bf0d-daeae1058e33\",\"type\":\"DataRange1d\"},{\"attributes\":{\"plot\":{\"id\":\"f644b12e-261c-48d6-8a56-3138597c2cc3\",\"subtype\":\"Figure\",\"type\":\"Plot\"}},\"id\":\"4edd9582-6b82-4b23-a938-6310e53ace99\",\"type\":\"WheelZoomTool\"},{\"attributes\":{\"num_minor_ticks\":10},\"id\":\"600a726b-2c34-4686-a8d7-c15c0d495b85\",\"type\":\"LogTicker\"}],\"root_ids\":[\"be01950b-37a3-436a-bb10-a5f833a7f365\"]},\"title\":\"Bokeh Application\",\"version\":\"0.12.2\"}};\n",
       "            var render_items = [{\"docid\":\"a52e9f69-63d4-42dc-af6c-2681c10e4693\",\"elementid\":\"629a699c-e543-410e-9171-eebd86e393e7\",\"modelid\":\"be01950b-37a3-436a-bb10-a5f833a7f365\"}];\n",
       "            \n",
       "            Bokeh.embed.embed_items(docs_json, render_items);\n",
       "        });\n",
       "      },\n",
       "      function(Bokeh) {\n",
       "      }\n",
       "    ];\n",
       "  \n",
       "    function run_inline_js() {\n",
       "      \n",
       "      if ((window.Bokeh !== undefined) || (force === \"1\")) {\n",
       "        for (var i = 0; i < inline_js.length; i++) {\n",
       "          inline_js[i](window.Bokeh);\n",
       "        }if (force === \"1\") {\n",
       "          display_loaded();\n",
       "        }} else if (Date.now() < window._bokeh_timeout) {\n",
       "        setTimeout(run_inline_js, 100);\n",
       "      } else if (!window._bokeh_failed_load) {\n",
       "        console.log(\"Bokeh: BokehJS failed to load within specified timeout.\");\n",
       "        window._bokeh_failed_load = true;\n",
       "      } else if (!force) {\n",
       "        var cell = $(\"#629a699c-e543-410e-9171-eebd86e393e7\").parents('.cell').data().cell;\n",
       "        cell.output_area.append_execute_result(NB_LOAD_WARNING)\n",
       "      }\n",
       "  \n",
       "    }\n",
       "  \n",
       "    if (window._bokeh_is_loading === 0) {\n",
       "      console.log(\"Bokeh: BokehJS loaded, going straight to plotting\");\n",
       "      run_inline_js();\n",
       "    } else {\n",
       "      load_libs(js_urls, function() {\n",
       "        console.log(\"Bokeh: BokehJS plotting callback run at\", now());\n",
       "        run_inline_js();\n",
       "      });\n",
       "    }\n",
       "  }(this));\n",
       "</script>"
      ]
     },
     "metadata": {},
     "output_type": "display_data"
    }
   ],
   "source": [
    "from bokeh.plotting import output_notebook, figure, show\n",
    "from bokeh.layouts import gridplot\n",
    "from bokeh.models import ColumnDataSource\n",
    "\n",
    "output_notebook()\n",
    "\n",
    "x, y1, y2 = 'LIMIT', 'PAY1', 'PAY2'\n",
    "n = 1000  # Less intensive for the browser.\n",
    "\n",
    "options = dict(\n",
    "    tools='pan,box_zoom,wheel_zoom,box_select,lasso_select,crosshair,reset,save',\n",
    "    x_axis_type='log', y_axis_type='log',\n",
    ")\n",
    "plot1 = figure(\n",
    "    x_range=[1e4,1e6],\n",
    "    x_axis_label=x, y_axis_label=y1,\n",
    "    **options\n",
    ")\n",
    "plot2 = figure(\n",
    "    x_range=plot1.x_range, y_range=plot1.y_range,\n",
    "    x_axis_label=x, y_axis_label=y2,\n",
    "    **options\n",
    ")\n",
    "\n",
    "html_color = lambda r,g,b: '#{:02x}{:02x}{:02x}'.format(r,g,b)\n",
    "colors = [html_color(150,0,0) if default == 1 else html_color(0,150,0) for default in data['DEFAULT'][:n]]\n",
    "# The above line is a list comprehension.\n",
    "\n",
    "radii = data['AGE'][:n] / 5\n",
    "\n",
    "# To link brushing (where a selection on one plot causes a selection to update on other plots).\n",
    "source = ColumnDataSource(data=dict(x=data[x][:n], y1=data[y1][:n], y2=data[y2][:n]))\n",
    "\n",
    "plot1.scatter('x', 'y1', source=source, size=radii, color=colors, alpha=0.6)\n",
    "plot2.scatter('x', 'y2', source=source, size=radii, color=colors, alpha=0.6)\n",
    "\n",
    "plot = gridplot([[plot1, plot2]], toolbar_location='right', plot_width=400, plot_height=400, title='adsf')\n",
    "\n",
    "show(plot)"
   ]
  },
  {
   "cell_type": "markdown",
   "metadata": {},
   "source": [
    "## 5 Traditional Statistics\n",
    "\n",
    "[Statsmodels](http://statsmodels.sourceforge.net/) is similar to scikit-learn, with much stronger emphasis on parameter estimation and (statistical) testing. It is similar in spirit to other statistical packages such as [R](https://www.r-project.org), [SPSS](http://www.ibm.com/analytics/us/en/technology/spss), [SAS](http://www.sas.com/de_ch/home.html) and [Stata](http://www.stata.com). That split reflects the [two statistical modeling cultures](http://projecteuclid.org/euclid.ss/1009213726): (1) Statistics, which want to know how well a given model fits the data, and what variables \"explain\" or affect the outcome, and (2) Machine Learning, where the main supported task is chosing the \"best\" model for prediction."
   ]
  },
  {
   "cell_type": "code",
   "execution_count": 21,
   "metadata": {
    "collapsed": true
   },
   "outputs": [],
   "source": [
    "# Back to numeric values.\n",
    "# Note: in a serious project, these should be treated as categories.\n",
    "data['SEX'].cat.categories = [-1, 1]\n",
    "data['SEX'] = data['SEX'].astype(np.int)\n",
    "data['MARRIAGE'].cat.categories = [-1, 1, 0]\n",
    "data['MARRIAGE'] = data['MARRIAGE'].astype(np.int)\n",
    "data['EDUCATION'].cat.categories = [-2, 2, 1, 0, -1]\n",
    "data['EDUCATION'] = data['EDUCATION'].astype(np.int)\n",
    "\n",
    "data['DEFAULT'] = data['DEFAULT'] * 2 - 1  # [0,1] --> [-1,1]"
   ]
  },
  {
   "cell_type": "code",
   "execution_count": 22,
   "metadata": {
    "collapsed": false
   },
   "outputs": [
    {
     "name": "stdout",
     "output_type": "stream",
     "text": [
      "The data is a <class 'numpy.ndarray'> with 29946 samples of dimensionality 23.\n"
     ]
    }
   ],
   "source": [
    "# Observations and targets.\n",
    "X = data.values[:,:23]\n",
    "y = data.values[:,23]\n",
    "n, d = X.shape\n",
    "print('The data is a {} with {} samples of dimensionality {}.'.format(type(X), n, d))"
   ]
  },
  {
   "cell_type": "code",
   "execution_count": 23,
   "metadata": {
    "collapsed": false
   },
   "outputs": [
    {
     "name": "stdout",
     "output_type": "stream",
     "text": [
      "                            OLS Regression Results                            \n",
      "==============================================================================\n",
      "Dep. Variable:                      y   R-squared:                       0.384\n",
      "Model:                            OLS   Adj. R-squared:                  0.383\n",
      "Method:                 Least Squares   F-statistic:                     809.4\n",
      "Date:                Mon, 03 Oct 2016   Prob (F-statistic):               0.00\n",
      "Time:                        16:39:16   Log-Likelihood:                -35248.\n",
      "No. Observations:               29946   AIC:                         7.054e+04\n",
      "Df Residuals:                   29923   BIC:                         7.073e+04\n",
      "Df Model:                          23                                         \n",
      "Covariance Type:            nonrobust                                         \n",
      "==============================================================================\n",
      "                 coef    std err          t      P>|t|      [95.0% Conf. Int.]\n",
      "------------------------------------------------------------------------------\n",
      "x1         -2.364e-07   4.35e-08     -5.428      0.000     -3.22e-07 -1.51e-07\n",
      "x2            -0.0337      0.005     -7.280      0.000        -0.043    -0.025\n",
      "x3            -0.0265      0.006     -4.656      0.000        -0.038    -0.015\n",
      "x4            -0.0801      0.005    -16.708      0.000        -0.090    -0.071\n",
      "x5            -0.0103      0.000    -42.750      0.000        -0.011    -0.010\n",
      "x6             0.1853      0.006     33.159      0.000         0.174     0.196\n",
      "x7             0.0352      0.007      5.221      0.000         0.022     0.048\n",
      "x8             0.0196      0.007      2.695      0.007         0.005     0.034\n",
      "x9             0.0060      0.008      0.747      0.455        -0.010     0.022\n",
      "x10            0.0114      0.009      1.314      0.189        -0.006     0.029\n",
      "x11            0.0068      0.007      0.959      0.338        -0.007     0.021\n",
      "x12        -1.372e-06   2.31e-07     -5.946      0.000     -1.82e-06  -9.2e-07\n",
      "x13         3.537e-07   3.24e-07      1.091      0.275     -2.82e-07  9.89e-07\n",
      "x14         3.364e-08   3.05e-07      0.110      0.912     -5.65e-07  6.32e-07\n",
      "x15        -1.465e-07   3.18e-07     -0.461      0.645      -7.7e-07  4.77e-07\n",
      "x16         1.527e-08   3.73e-07      0.041      0.967     -7.16e-07  7.46e-07\n",
      "x17         2.117e-07   2.95e-07      0.717      0.473     -3.67e-07   7.9e-07\n",
      "x18        -1.583e-06   3.58e-07     -4.421      0.000     -2.29e-06 -8.81e-07\n",
      "x19        -4.521e-07   2.94e-07     -1.536      0.125     -1.03e-06  1.25e-07\n",
      "x20        -3.437e-08   3.41e-07     -0.101      0.920     -7.04e-07  6.35e-07\n",
      "x21        -6.357e-07   3.72e-07     -1.710      0.087     -1.36e-06  9.28e-08\n",
      "x22        -6.479e-07   3.86e-07     -1.680      0.093      -1.4e-06  1.08e-07\n",
      "x23        -1.959e-07   2.76e-07     -0.710      0.478     -7.37e-07  3.45e-07\n",
      "==============================================================================\n",
      "Omnibus:                     4479.171   Durbin-Watson:                   1.999\n",
      "Prob(Omnibus):                  0.000   Jarque-Bera (JB):             6851.842\n",
      "Skew:                           1.169   Prob(JB):                         0.00\n",
      "Kurtosis:                       3.160   Cond. No.                     6.14e+05\n",
      "==============================================================================\n",
      "\n",
      "Warnings:\n",
      "[1] Standard Errors assume that the covariance matrix of the errors is correctly specified.\n",
      "[2] The condition number is large, 6.14e+05. This might indicate that there are\n",
      "strong multicollinearity or other numerical problems.\n"
     ]
    }
   ],
   "source": [
    "import statsmodels.api as sm\n",
    "\n",
    "# Fit the Ordinary Least Square regression model.\n",
    "results = sm.OLS(y, X).fit()\n",
    "\n",
    "# Inspect the results.\n",
    "print(results.summary())"
   ]
  },
  {
   "cell_type": "markdown",
   "metadata": {},
   "source": [
    "## 6 Exporting data\n",
    "\n",
    "Save the collected data to disk for further analysis."
   ]
  },
  {
   "cell_type": "code",
   "execution_count": 24,
   "metadata": {
    "collapsed": true
   },
   "outputs": [],
   "source": [
    "np.save(os.path.join(folder, 'X.npy'), X)\n",
    "np.save(os.path.join(folder, 'y.npy'), y)"
   ]
  }
 ],
 "metadata": {
  "kernelspec": {
   "display_name": "Python 3",
   "language": "python",
   "name": "python3"
  },
  "language_info": {
   "codemirror_mode": {
    "name": "ipython",
    "version": 3
   },
   "file_extension": ".py",
   "mimetype": "text/x-python",
   "name": "python",
   "nbconvert_exporter": "python",
   "pygments_lexer": "ipython3",
   "version": "3.5.2"
  }
 },
 "nbformat": 4,
 "nbformat_minor": 0
}
